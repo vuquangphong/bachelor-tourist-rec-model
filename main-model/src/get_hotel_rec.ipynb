{
 "cells": [
  {
   "cell_type": "code",
   "execution_count": 1,
   "metadata": {},
   "outputs": [],
   "source": [
    "import pandas as pd\n",
    "import ipywidgets as w\n",
    "from IPython.display import display, IFrame\n",
    "import pyspark\n",
    "from pyspark.sql import SQLContext, functions, types\n",
    "from pyspark.sql import Row\n",
    "import matplotlib.pyplot as plt\n",
    "from hotel_rec import *\n",
    "import json\n",
    "import constants as const\n",
    "%matplotlib inline"
   ]
  },
  {
   "cell_type": "code",
   "execution_count": 4,
   "metadata": {},
   "outputs": [
    {
     "name": "stderr",
     "output_type": "stream",
     "text": [
      "C:\\Users\\thapq\\AppData\\Roaming\\Python\\Python311\\site-packages\\pyspark\\sql\\context.py:112: FutureWarning: Deprecated in 3.0.0. Use SparkSession.builder.getOrCreate() instead.\n",
      "  warnings.warn(\n"
     ]
    }
   ],
   "source": [
    "sc=pyspark.SparkContext(appName=const.HOTEL_REC_APP_NAME)\n",
    "spark = SQLContext(sc)"
   ]
  },
  {
   "attachments": {},
   "cell_type": "markdown",
   "metadata": {},
   "source": [
    "## User details and Preferences"
   ]
  },
  {
   "cell_type": "code",
   "execution_count": 2,
   "metadata": {},
   "outputs": [
    {
     "data": {
      "application/vnd.jupyter.widget-view+json": {
       "model_id": "5f543e11ce3944c783db992dbc7b37cf",
       "version_major": 2,
       "version_minor": 0
      },
      "text/plain": [
       "HBox(children=(VBox(children=(Text(value='', description='Tỉnh/Thành phố'),)),))"
      ]
     },
     "metadata": {},
     "output_type": "display_data"
    }
   ],
   "source": [
    "# name = w.Text(description=\"Tên người dùng\")\n",
    "place = w.Text(description=\"Tỉnh/Thành phố\")\n",
    "v1 = w.VBox([place])\n",
    "\n",
    "# start = w.DatePicker(description='Ngày bắt đầu', disabled=False)\n",
    "# end = w.DatePicker(description='Ngày kết thúc', disabled=False)\n",
    "# v2 = w.VBox([start,end])\n",
    "\n",
    "out = w.HBox([v1])\n",
    "display(out)"
   ]
  },
  {
   "cell_type": "code",
   "execution_count": 5,
   "metadata": {},
   "outputs": [],
   "source": [
    "hotel_df = spark.read.json(const.DIR_DATA_HOTEL)\n",
    "hotel_amenity_df = spark.read.json(const.DIR_DATA_HOTEL_AMENITIES)\n",
    "\n",
    "hotel_df.createOrReplaceTempView('hotel_df')\n",
    "hotel_amenity_df.createOrReplaceTempView('hotel_amenity_df')"
   ]
  },
  {
   "cell_type": "code",
   "execution_count": 6,
   "metadata": {},
   "outputs": [
    {
     "data": {
      "text/plain": [
       "'Hà Nội'"
      ]
     },
     "execution_count": 6,
     "metadata": {},
     "output_type": "execute_result"
    }
   ],
   "source": [
    "place.value"
   ]
  },
  {
   "cell_type": "code",
   "execution_count": 7,
   "metadata": {},
   "outputs": [
    {
     "name": "stdout",
     "output_type": "stream",
     "text": [
      "Select atleast 5 amenities:\n"
     ]
    },
    {
     "data": {
      "application/vnd.jupyter.widget-view+json": {
       "model_id": "90902db93a9a45409bd0580bd5ac4ec5",
       "version_major": 2,
       "version_minor": 0
      },
      "text/plain": [
       "HBox(children=(VBox(children=(Button(description=' Nonsmoking hotel', layout=Layout(height='100px', width='100…"
      ]
     },
     "metadata": {},
     "output_type": "display_data"
    },
    {
     "name": "stdout",
     "output_type": "stream",
     "text": [
      " Family Rooms\n",
      "Select 4 more!\n",
      "\n",
      " Public Wifi\n",
      "Select 3 more!\n",
      "\n",
      " Pets Allowed  Dog  Pet Friendly \n",
      "Select 2 more!\n",
      "\n",
      " Suites\n",
      "Select 1 more!\n",
      "\n",
      " Kitchenette\n"
     ]
    }
   ],
   "source": [
    "# Tìm ra top 15 độ tiện nghi của khách sạn\n",
    "temp_amenity_df  = spark.sql(\"SELECT amenities, COUNT(amenities) AS tot_count FROM hotel_amenity_df GROUP BY amenities ORDER BY tot_count DESC\")\n",
    "top_amenities = [x[0] for x in temp_amenity_df.head(21) if x[0] != '']\n",
    "\n",
    "# Lựa chọn độ tiện nghi của du khách (chọn 5)\n",
    "amenities_pref = []\n",
    "def on_button_clicked(b):\n",
    "    if b.description in amenities_pref:\n",
    "        return\n",
    "    \n",
    "    print(b.description)\n",
    "    amenities_pref.append(b.description)\n",
    "    if(len(amenities_pref) < 5):\n",
    "        print(\"Select {x} more!\\n\".format(x=5-len(amenities_pref)))\n",
    "        \n",
    "but_layout = w.Layout(width='100%', height='100px')\n",
    "but_items = [w.Button(description=c, layout=but_layout) for c in top_amenities]\n",
    "on_clk = [item.on_click(on_button_clicked) for item in but_items]\n",
    "r1 = w.VBox([i for i in but_items[:5]])\n",
    "r2 = w.VBox([i for i in but_items[5:10]])\n",
    "r3 = w.VBox([i for i in but_items[10:]])\n",
    "buttons = w.HBox([r1,r2,r3])\n",
    "\n",
    "print(\"Select atleast 5 amenities:\")\n",
    "display(buttons)"
   ]
  },
  {
   "cell_type": "code",
   "execution_count": 8,
   "metadata": {},
   "outputs": [
    {
     "name": "stdout",
     "output_type": "stream",
     "text": [
      "+--------+\n",
      "|count(1)|\n",
      "+--------+\n",
      "|      47|\n",
      "+--------+\n",
      "\n"
     ]
    }
   ],
   "source": [
    "temp = spark.sql('select count(*) from hotel_df')\n",
    "temp.show()"
   ]
  },
  {
   "attachments": {},
   "cell_type": "markdown",
   "metadata": {},
   "source": [
    "## Model training and evaluation"
   ]
  },
  {
   "cell_type": "code",
   "execution_count": 9,
   "metadata": {},
   "outputs": [
    {
     "name": "stdout",
     "output_type": "stream",
     "text": [
      "DataFrame[user_id: bigint, att_id: bigint, user_rating: bigint, prediction: float]\n",
      "best rank :  12\n",
      "best RMSE:0.834245964884758\n"
     ]
    },
    {
     "data": {
      "text/plain": [
       "<BarContainer object of 3 artists>"
      ]
     },
     "execution_count": 9,
     "metadata": {},
     "output_type": "execute_result"
    },
    {
     "data": {
      "image/png": "[encoded data removed]",
      "text/plain": [
       "<Figure size 640x480 with 1 Axes>"
      ]
     },
     "metadata": {},
     "output_type": "display_data"
    }
   ],
   "source": [
    "# write list to JSON file\n",
    "temp_json_amenities = []\n",
    "for amenity in amenities_pref:\n",
    "    temp_json_amenities.append({'amenities_pref': amenity})\n",
    "\n",
    "with open('temp_amenities_pref.json', 'w') as f:\n",
    "    json.dump(temp_json_amenities, f)\n",
    "\n",
    "amenities_pref_df = spark.read.json('temp_amenities_pref.json')\n",
    "\n",
    "usr_rating = amenities_rating(spark, amenities_pref_df, hotel_amenity_df)\n",
    "rank, error, errors, usrid_s2, model = model_train(spark, usr_rating)\n",
    "\n",
    "print(\"best rank : \",rank)\n",
    "print(\"best RMSE:\" +str(error))\n",
    "plt.bar([4,8,12], height=errors)"
   ]
  },
  {
   "attachments": {},
   "cell_type": "markdown",
   "metadata": {},
   "source": [
    "## Getting Recommendation"
   ]
  },
  {
   "cell_type": "code",
   "execution_count": 12,
   "metadata": {},
   "outputs": [
    {
     "data": {
      "text/plain": [
       "ALSModel: uid=ALS_a26e44e27a14, rank=12"
      ]
     },
     "execution_count": 12,
     "metadata": {},
     "output_type": "execute_result"
    }
   ],
   "source": [
    "# check if model is None\n",
    "model"
   ]
  },
  {
   "cell_type": "code",
   "execution_count": 10,
   "metadata": {},
   "outputs": [],
   "source": [
    "u_tempdf = get_hotel_recc(spark, usrid_s2, model)\n",
    "# hotel_df = hotel_df.join(u_tempdf, \"id\").withColumn(\"address\",functions.lower(functions.col(\"address\")))\n",
    "u_tempdf.createOrReplaceTempView('u_temp_df')\n",
    "a = spark.sql('select distinct * from u_temp_df')\n",
    "hotel_df = hotel_df.join(a, \"id\")\n",
    "# user_location = place.value.lower()\n",
    "hotel_sugg = hotel_df.where(hotel_df.city == place.value)\n",
    "hotel_sugg.createOrReplaceTempView('hotel_df_sugg_view')\n",
    "sugg_view = spark.sql('select distinct * from hotel_df_sugg_view')\n",
    "# hotel_sugg = hotel_df.where(hotel_df.address.contains(user_location))\n",
    "recc = sugg_view.dropna().toPandas()\n",
    "\n",
    "# hotel_df = spark.read.json(const.DIR_DATA_HOTEL)\n",
    "# hotel_df.createOrReplaceTempView('hotel_df')\n",
    "\n",
    "# hotel_temp_df = hotel_df.join(u_tempdf, \"id\")\n",
    "\n",
    "\n",
    "# TODO:\n",
    "# u_tempdf.createOrReplaceTempView('u_tempdf')\n",
    "# temp = spark.sql('select * from u_tempdf limit 30')\n",
    "# temp.show()"
   ]
  },
  {
   "cell_type": "code",
   "execution_count": 11,
   "metadata": {},
   "outputs": [
    {
     "data": {
      "text/html": [
       "<div>\n",
       "<style scoped>\n",
       "    .dataframe tbody tr th:only-of-type {\n",
       "        vertical-align: middle;\n",
       "    }\n",
       "\n",
       "    .dataframe tbody tr th {\n",
       "        vertical-align: top;\n",
       "    }\n",
       "\n",
       "    .dataframe thead th {\n",
       "        text-align: right;\n",
       "    }\n",
       "</style>\n",
       "<table border=\"1\" class=\"dataframe\">\n",
       "  <thead>\n",
       "    <tr style=\"text-align: right;\">\n",
       "      <th></th>\n",
       "      <th>id</th>\n",
       "      <th>amenities</th>\n",
       "      <th>city</th>\n",
       "      <th>hotel_name</th>\n",
       "      <th>hotel_rating</th>\n",
       "      <th>location</th>\n",
       "      <th>price</th>\n",
       "    </tr>\n",
       "  </thead>\n",
       "  <tbody>\n",
       "    <tr>\n",
       "      <th>14</th>\n",
       "      <td>1040</td>\n",
       "      <td>[lodging, point_of_interest, establishment]</td>\n",
       "      <td>Hà Nội</td>\n",
       "      <td>Urban Alley Hotel</td>\n",
       "      <td>4.2</td>\n",
       "      <td>(21.0284839, 105.8450342)</td>\n",
       "      <td>400000</td>\n",
       "    </tr>\n",
       "    <tr>\n",
       "      <th>16</th>\n",
       "      <td>1944</td>\n",
       "      <td>[lodging, point_of_interest, establishment]</td>\n",
       "      <td>Hà Nội</td>\n",
       "      <td>Hotels Van Mieu</td>\n",
       "      <td>4.0</td>\n",
       "      <td>(21.026922, 105.8363934)</td>\n",
       "      <td>450000</td>\n",
       "    </tr>\n",
       "    <tr>\n",
       "      <th>19</th>\n",
       "      <td>2004</td>\n",
       "      <td>[lodging, point_of_interest, establishment]</td>\n",
       "      <td>Hà Nội</td>\n",
       "      <td>Hotels Van Mieu 2 (Vanmieu 2 Hotel)</td>\n",
       "      <td>3.9</td>\n",
       "      <td>(21.0190843, 105.8354964)</td>\n",
       "      <td>400000</td>\n",
       "    </tr>\n",
       "    <tr>\n",
       "      <th>24</th>\n",
       "      <td>4399</td>\n",
       "      <td>[lodging, point_of_interest, establishment]</td>\n",
       "      <td>Hà Nội</td>\n",
       "      <td>Rising Dragon Estate Hotel</td>\n",
       "      <td>3.7</td>\n",
       "      <td>(21.0312315, 105.8453435)</td>\n",
       "      <td>200000</td>\n",
       "    </tr>\n",
       "    <tr>\n",
       "      <th>27</th>\n",
       "      <td>244</td>\n",
       "      <td>[lodging, point_of_interest, establishment]</td>\n",
       "      <td>Hà Nội</td>\n",
       "      <td>Su Casa</td>\n",
       "      <td>4.8</td>\n",
       "      <td>(21.0277497, 105.8439407)</td>\n",
       "      <td>400000</td>\n",
       "    </tr>\n",
       "    <tr>\n",
       "      <th>30</th>\n",
       "      <td>3773</td>\n",
       "      <td>[lodging, point_of_interest, establishment]</td>\n",
       "      <td>Hà Nội</td>\n",
       "      <td>Lucky 3 Hotel</td>\n",
       "      <td>3.7</td>\n",
       "      <td>(21.030068, 105.8470878)</td>\n",
       "      <td>400000</td>\n",
       "    </tr>\n",
       "  </tbody>\n",
       "</table>\n",
       "</div>"
      ],
      "text/plain": [
       "      id                                    amenities    city  \\\n",
       "14  1040  [lodging, point_of_interest, establishment]  Hà Nội   \n",
       "16  1944  [lodging, point_of_interest, establishment]  Hà Nội   \n",
       "19  2004  [lodging, point_of_interest, establishment]  Hà Nội   \n",
       "24  4399  [lodging, point_of_interest, establishment]  Hà Nội   \n",
       "27   244  [lodging, point_of_interest, establishment]  Hà Nội   \n",
       "30  3773  [lodging, point_of_interest, establishment]  Hà Nội   \n",
       "\n",
       "                             hotel_name  hotel_rating  \\\n",
       "14                    Urban Alley Hotel           4.2   \n",
       "16                      Hotels Van Mieu           4.0   \n",
       "19  Hotels Van Mieu 2 (Vanmieu 2 Hotel)           3.9   \n",
       "24           Rising Dragon Estate Hotel           3.7   \n",
       "27                              Su Casa           4.8   \n",
       "30                        Lucky 3 Hotel           3.7   \n",
       "\n",
       "                     location   price  \n",
       "14  (21.0284839, 105.8450342)  400000  \n",
       "16   (21.026922, 105.8363934)  450000  \n",
       "19  (21.0190843, 105.8354964)  400000  \n",
       "24  (21.0312315, 105.8453435)  200000  \n",
       "27  (21.0277497, 105.8439407)  400000  \n",
       "30   (21.030068, 105.8470878)  400000  "
      ]
     },
     "execution_count": 11,
     "metadata": {},
     "output_type": "execute_result"
    }
   ],
   "source": [
    "recc = recc[recc.price < 500000]\n",
    "recc"
   ]
  },
  {
   "cell_type": "code",
   "execution_count": 12,
   "metadata": {},
   "outputs": [],
   "source": [
    "%%capture\n",
    "final = dict()\n",
    "# final['address'] = recc[:5]['address'].values.tolist()\n",
    "final['amenities'] = recc[:5]['amenities'].values.T.tolist()\n",
    "# final['experience'] = recc[:5]['hotel_experience'].values.tolist()\n",
    "final['name'] = recc[:5]['hotel_name'].values.tolist()\n",
    "final['rating'] = recc[:5]['hotel_rating'].values.tolist()\n",
    "final['location'] = [i[1:-1] for i in recc[:5]['location'].values.tolist()]\n",
    "final['price'] = recc[:5]['price'].values.tolist()\n",
    "final['image'] = [get_image(i) for i in recc[:5]['hotel_name'].values.tolist()]\n",
    "\n"
   ]
  },
  {
   "attachments": {},
   "cell_type": "markdown",
   "metadata": {},
   "source": [
    "## Final Output"
   ]
  },
  {
   "cell_type": "code",
   "execution_count": 14,
   "metadata": {},
   "outputs": [
    {
     "ename": "KeyError",
     "evalue": "'image'",
     "output_type": "error",
     "traceback": [
      "\u001b[1;31m---------------------------------------------------------------------------\u001b[0m",
      "\u001b[1;31mKeyError\u001b[0m                                  Traceback (most recent call last)",
      "Cell \u001b[1;32mIn[14], line 3\u001b[0m\n\u001b[0;32m      1\u001b[0m \u001b[39m# days = (end.value - start.value).days\u001b[39;00m\n\u001b[0;32m      2\u001b[0m days \u001b[39m=\u001b[39m \u001b[39m0\u001b[39m\n\u001b[1;32m----> 3\u001b[0m tab_recc \u001b[39m=\u001b[39m get_hotel_output(days, final)\n\u001b[0;32m      4\u001b[0m display(tab_recc)\n",
      "File \u001b[1;32mc:\\Users\\thapq\\khoa_luan_tot_nghiep\\tourist-rec-model\\main-model\\src\\hotel_rec.py:164\u001b[0m, in \u001b[0;36mget_hotel_output\u001b[1;34m(days, final)\u001b[0m\n\u001b[0;32m    161\u001b[0m tab \u001b[39m=\u001b[39m []\n\u001b[0;32m    163\u001b[0m \u001b[39mfor\u001b[39;00m i \u001b[39min\u001b[39;00m \u001b[39mrange\u001b[39m(\u001b[39mlen\u001b[39m(final[\u001b[39m'\u001b[39m\u001b[39mname\u001b[39m\u001b[39m'\u001b[39m])):\n\u001b[1;32m--> 164\u001b[0m     \u001b[39mif\u001b[39;00m final[\u001b[39m'\u001b[39;49m\u001b[39mimage\u001b[39;49m\u001b[39m'\u001b[39;49m][i] \u001b[39mis\u001b[39;00m \u001b[39mNone\u001b[39;00m: \n\u001b[0;32m    165\u001b[0m         final[\u001b[39m'\u001b[39m\u001b[39mimage\u001b[39m\u001b[39m'\u001b[39m][i] \u001b[39m=\u001b[39m const\u001b[39m.\u001b[39mDIR_NO_IMAGE\n\u001b[0;32m    167\u001b[0m     image \u001b[39m=\u001b[39m \u001b[39mopen\u001b[39m(final[\u001b[39m'\u001b[39m\u001b[39mimage\u001b[39m\u001b[39m'\u001b[39m][i], \u001b[39m\"\u001b[39m\u001b[39mrb\u001b[39m\u001b[39m\"\u001b[39m)\u001b[39m.\u001b[39mread()\n",
      "\u001b[1;31mKeyError\u001b[0m: 'image'"
     ]
    }
   ],
   "source": [
    "# days = (end.value - start.value).days\n",
    "days = 0\n",
    "tab_recc = get_hotel_output(days, final)\n",
    "display(tab_recc)"
   ]
  }
 ],
 "metadata": {
  "kernelspec": {
   "display_name": "Python 3",
   "language": "python",
   "name": "python3"
  },
  "language_info": {
   "codemirror_mode": {
    "name": "ipython",
    "version": 3
   },
   "file_extension": ".py",
   "mimetype": "text/x-python",
   "name": "python",
   "nbconvert_exporter": "python",
   "pygments_lexer": "ipython3",
   "version": "3.11.0"
  }
 },
 "nbformat": 4,
 "nbformat_minor": 2
}
