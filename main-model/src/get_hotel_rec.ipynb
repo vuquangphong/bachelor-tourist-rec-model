{
 "cells": [
  {
   "cell_type": "code",
   "execution_count": 1,
   "metadata": {},
   "outputs": [],
   "source": [
    "import pandas as pd\n",
    "import ipywidgets as w\n",
    "from IPython.display import display, IFrame\n",
    "import pyspark\n",
    "from pyspark.sql import SQLContext, functions, types\n",
    "from pyspark.sql import Row\n",
    "import matplotlib.pyplot as plt\n",
    "from hotel_rec import *\n",
    "import json\n",
    "import constants as const\n",
    "%matplotlib inline"
   ]
  },
  {
   "cell_type": "code",
   "execution_count": 2,
   "metadata": {},
   "outputs": [
    {
     "name": "stderr",
     "output_type": "stream",
     "text": [
      "C:\\Users\\thapq\\AppData\\Roaming\\Python\\Python311\\site-packages\\pyspark\\sql\\context.py:112: FutureWarning: Deprecated in 3.0.0. Use SparkSession.builder.getOrCreate() instead.\n",
      "  warnings.warn(\n"
     ]
    }
   ],
   "source": [
    "sc=pyspark.SparkContext(appName=const.HOTEL_REC_APP_NAME)\n",
    "spark = SQLContext(sc)"
   ]
  },
  {
   "cell_type": "markdown",
   "metadata": {},
   "source": [
    "## User details and Preferences"
   ]
  },
  {
   "cell_type": "code",
   "execution_count": 3,
   "metadata": {},
   "outputs": [
    {
     "data": {
      "application/vnd.jupyter.widget-view+json": {
       "model_id": "02cf819bd0f44291b684537cdf4eded3",
       "version_major": 2,
       "version_minor": 0
      },
      "text/plain": [
       "HBox(children=(VBox(children=(Text(value='', description='Tên người dùng'), Text(value='', description='Tỉnh/T…"
      ]
     },
     "metadata": {},
     "output_type": "display_data"
    }
   ],
   "source": [
    "name = w.Text(description=\"Tên người dùng\")\n",
    "place = w.Text(description=\"Tỉnh/Thành phố\")\n",
    "v1 = w.VBox([name,place])\n",
    "\n",
    "start = w.DatePicker(description='Ngày bắt đầu', disabled=False)\n",
    "end = w.DatePicker(description='Ngày kết thúc', disabled=False)\n",
    "v2 = w.VBox([start,end])\n",
    "\n",
    "out = w.HBox([v1,v2])\n",
    "display(out)"
   ]
  },
  {
   "cell_type": "code",
   "execution_count": 5,
   "metadata": {},
   "outputs": [],
   "source": [
    "hotel_df = spark.read.json(const.DIR_DATA_HOTEL)\n",
    "hotel_amenity_df = spark.read.json(const.DIR_DATA_HOTEL_AMENITIES)\n",
    "\n",
    "hotel_df.createOrReplaceTempView('hotel_df')\n",
    "hotel_amenity_df.createOrReplaceTempView('hotel_amenity_df')"
   ]
  },
  {
   "cell_type": "code",
   "execution_count": 6,
   "metadata": {},
   "outputs": [
    {
     "name": "stdout",
     "output_type": "stream",
     "text": [
      "Select atleast 5 amenities:\n"
     ]
    },
    {
     "data": {
      "application/vnd.jupyter.widget-view+json": {
       "model_id": "c081372b574949c19030fbe635bf2471",
       "version_major": 2,
       "version_minor": 0
      },
      "text/plain": [
       "HBox(children=(VBox(children=(Button(description=' Nonsmoking hotel', layout=Layout(height='100px', width='100…"
      ]
     },
     "metadata": {},
     "output_type": "display_data"
    },
    {
     "name": "stdout",
     "output_type": "stream",
     "text": [
      " Nonsmoking hotel\n",
      "Select 4 more!\n",
      "\n",
      " Nonsmoking rooms\n",
      "Select 3 more!\n",
      "\n",
      " Free High Speed Internet WiFi\n",
      "Select 2 more!\n",
      "\n",
      " Air conditioning\n",
      "Select 1 more!\n",
      "\n",
      "Free parking\n"
     ]
    }
   ],
   "source": [
    "# Tìm ra top 15 độ tiện nghi của khách sạn\n",
    "temp_amenity_df  = spark.sql(\"SELECT amenities, COUNT(amenities) AS tot_count FROM hotel_amenity_df GROUP BY amenities ORDER BY tot_count DESC\")\n",
    "top_amenities = [x[0] for x in temp_amenity_df.head(16) if x[0] != '']\n",
    "\n",
    "# Lựa chọn độ tiện nghi của du khách (chọn 5)\n",
    "amenities_pref = []\n",
    "def on_button_clicked(b):\n",
    "    if b.description in amenities_pref:\n",
    "        return\n",
    "    \n",
    "    print(b.description)\n",
    "    amenities_pref.append(b.description)\n",
    "    if(len(amenities_pref) < 5):\n",
    "        print(\"Select {x} more!\\n\".format(x=5-len(amenities_pref)))\n",
    "        \n",
    "but_layout = w.Layout(width='100%', height='100px')\n",
    "but_items = [w.Button(description=c, layout=but_layout) for c in top_amenities]\n",
    "on_clk = [item.on_click(on_button_clicked) for item in but_items]\n",
    "r1 = w.VBox([i for i in but_items[:5]])\n",
    "r2 = w.VBox([i for i in but_items[5:10]])\n",
    "r3 = w.VBox([i for i in but_items[10:]])\n",
    "buttons = w.HBox([r1,r2,r3])\n",
    "\n",
    "print(\"Select atleast 5 amenities:\")\n",
    "display(buttons)"
   ]
  },
  {
   "cell_type": "markdown",
   "metadata": {},
   "source": [
    "## Model training and evaluation"
   ]
  },
  {
   "cell_type": "code",
   "execution_count": 7,
   "metadata": {},
   "outputs": [
    {
     "name": "stdout",
     "output_type": "stream",
     "text": [
      "best rank :  12\n",
      "best RMSE:0.0002040336554347435\n"
     ]
    },
    {
     "data": {
      "text/plain": [
       "<BarContainer object of 3 artists>"
      ]
     },
     "execution_count": 7,
     "metadata": {},
     "output_type": "execute_result"
    },
    {
     "data": {
      "image/png": "[encoded data removed]",
      "text/plain": [
       "<Figure size 640x480 with 1 Axes>"
      ]
     },
     "metadata": {},
     "output_type": "display_data"
    }
   ],
   "source": [
    "# write list to JSON file\n",
    "temp_json_amenities = []\n",
    "for amenity in amenities_pref:\n",
    "    temp_json_amenities.append({'amenities_pref': amenity})\n",
    "\n",
    "with open('temp_amenities_pref.json', 'w') as f:\n",
    "    json.dump(temp_json_amenities, f)\n",
    "\n",
    "amenities_pref_df = spark.read.json('temp_amenities_pref.json')\n",
    "\n",
    "usr_rating = amenities_rating(spark, amenities_pref_df, hotel_amenity_df)\n",
    "rank, error, errors, usrid_s2, model = model_train(spark, usr_rating)\n",
    "\n",
    "print(\"best rank : \",rank)\n",
    "print(\"best RMSE:\" +str(error))\n",
    "plt.bar([4,8,12], height=errors)"
   ]
  },
  {
   "cell_type": "markdown",
   "metadata": {},
   "source": [
    "## Getting Recommendation"
   ]
  },
  {
   "cell_type": "code",
   "execution_count": 8,
   "metadata": {},
   "outputs": [
    {
     "data": {
      "text/plain": [
       "ALSModel: uid=ALS_0ba24b3a617b, rank=12"
      ]
     },
     "execution_count": 8,
     "metadata": {},
     "output_type": "execute_result"
    }
   ],
   "source": [
    "# check if model is None\n",
    "model"
   ]
  },
  {
   "cell_type": "code",
   "execution_count": 9,
   "metadata": {},
   "outputs": [],
   "source": [
    "u_tempdf = get_hotel_recc(spark, usrid_s2, model)\n",
    "hotel_df = hotel_df.join(u_tempdf, \"id\").withColumn(\"address\",functions.lower(functions.col(\"address\")))\n",
    "user_location = place.value.lower()\n",
    "hotel_sugg = hotel_df.where(hotel_df.address.contains(user_location))\n",
    "recc = hotel_sugg.dropna().toPandas()"
   ]
  },
  {
   "cell_type": "code",
   "execution_count": 10,
   "metadata": {},
   "outputs": [],
   "source": [
    "%%capture\n",
    "final = dict()\n",
    "final['address'] = recc[:5]['address'].values.tolist()\n",
    "final['amenities'] = recc[:5]['amenities'].values.T.tolist()\n",
    "final['experience'] = recc[:5]['hotel_experience'].values.tolist()\n",
    "final['name'] = recc[:5]['hotel_name'].values.tolist()\n",
    "final['rating'] = recc[:5]['hotel_rating'].values.tolist()\n",
    "final['location'] = [i[1:-1] for i in recc[:5]['location'].values.tolist()]\n",
    "final['price'] = recc[:5]['price'].values.tolist()\n",
    "final['image'] = [get_image(i) for i in recc[:5]['hotel_name'].values.tolist()]\n",
    "\n"
   ]
  },
  {
   "cell_type": "markdown",
   "metadata": {},
   "source": [
    "## Final Output"
   ]
  },
  {
   "cell_type": "code",
   "execution_count": 11,
   "metadata": {},
   "outputs": [
    {
     "data": {
      "application/vnd.jupyter.widget-view+json": {
       "model_id": "e7c3086107f544e48647b6a07602851d",
       "version_major": 2,
       "version_minor": 0
      },
      "text/plain": [
       "Tab(children=(VBox(children=(Image(value=b'\\xff\\xd8\\xff\\xe0\\x00\\x10JFIF\\x00\\x01\\x01\\x01\\x00H\\x00H\\x00\\x00\\xff\\…"
      ]
     },
     "metadata": {},
     "output_type": "display_data"
    }
   ],
   "source": [
    "days = (end.value - start.value).days\n",
    "tab_recc = get_hotel_output(days, final)\n",
    "display(tab_recc)"
   ]
  }
 ],
 "metadata": {
  "kernelspec": {
   "display_name": "Python 3",
   "language": "python",
   "name": "python3"
  },
  "language_info": {
   "codemirror_mode": {
    "name": "ipython",
    "version": 3
   },
   "file_extension": ".py",
   "mimetype": "text/x-python",
   "name": "python",
   "nbconvert_exporter": "python",
   "pygments_lexer": "ipython3",
   "version": "3.11.0"
  }
 },
 "nbformat": 4,
 "nbformat_minor": 2
}
