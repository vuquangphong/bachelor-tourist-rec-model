{
 "cells": [
  {
   "cell_type": "code",
   "execution_count": 1,
   "metadata": {},
   "outputs": [],
   "source": [
    "import pandas as pd\n",
    "import ipywidgets as w\n",
    "from IPython.display import display, IFrame\n",
    "import pyspark\n",
    "from pyspark.sql import SQLContext, functions, types\n",
    "from pyspark.sql import Row\n",
    "import matplotlib.pyplot as plt\n",
    "from hotel_rec import *\n",
    "import json\n",
    "import constants as const\n",
    "%matplotlib inline"
   ]
  },
  {
   "cell_type": "code",
   "execution_count": 2,
   "metadata": {},
   "outputs": [
    {
     "name": "stderr",
     "output_type": "stream",
     "text": [
      "C:\\Users\\thapq\\AppData\\Roaming\\Python\\Python311\\site-packages\\pyspark\\sql\\context.py:112: FutureWarning: Deprecated in 3.0.0. Use SparkSession.builder.getOrCreate() instead.\n",
      "  warnings.warn(\n"
     ]
    }
   ],
   "source": [
    "sc=pyspark.SparkContext(appName=const.HOTEL_REC_APP_NAME)\n",
    "spark = SQLContext(sc)"
   ]
  },
  {
   "cell_type": "markdown",
   "metadata": {},
   "source": [
    "## User details and Preferences"
   ]
  },
  {
   "cell_type": "code",
   "execution_count": 3,
   "metadata": {},
   "outputs": [
    {
     "data": {
      "application/vnd.jupyter.widget-view+json": {
       "model_id": "96494996545b4c0db1e55668528d751a",
       "version_major": 2,
       "version_minor": 0
      },
      "text/plain": [
       "HBox(children=(VBox(children=(Text(value='', description='Tên người dùng'), Text(value='', description='Tỉnh/T…"
      ]
     },
     "metadata": {},
     "output_type": "display_data"
    }
   ],
   "source": [
    "name = w.Text(description=\"Tên người dùng\")\n",
    "place = w.Text(description=\"Tỉnh/Thành phố\")\n",
    "v1 = w.VBox([name,place])\n",
    "\n",
    "start = w.DatePicker(description='Ngày bắt đầu', disabled=False)\n",
    "end = w.DatePicker(description='Ngày kết thúc', disabled=False)\n",
    "v2 = w.VBox([start,end])\n",
    "\n",
    "out = w.HBox([v1,v2])\n",
    "display(out)"
   ]
  },
  {
   "cell_type": "code",
   "execution_count": 4,
   "metadata": {},
   "outputs": [],
   "source": [
    "hotel_df = spark.read.json(const.DIR_DATA_HOTEL)\n",
    "hotel_amenity_df = spark.read.json(const.DIR_DATA_HOTEL_AMENITIES)\n",
    "\n",
    "hotel_df.createOrReplaceTempView('hotel_df')\n",
    "hotel_amenity_df.createOrReplaceTempView('hotel_amenity_df')"
   ]
  },
  {
   "cell_type": "code",
   "execution_count": 5,
   "metadata": {},
   "outputs": [
    {
     "data": {
      "text/plain": [
       "'Hà Nội'"
      ]
     },
     "execution_count": 5,
     "metadata": {},
     "output_type": "execute_result"
    }
   ],
   "source": [
    "place.value\n",
    "# ở hệ thống thì cứ thay bằng Hà Nội, không sao cả"
   ]
  },
  {
   "cell_type": "code",
   "execution_count": 6,
   "metadata": {},
   "outputs": [
    {
     "name": "stdout",
     "output_type": "stream",
     "text": [
      "Select atleast 5 amenities:\n"
     ]
    },
    {
     "data": {
      "application/vnd.jupyter.widget-view+json": {
       "model_id": "6bfd4190417e46a49e6e0841fd4da701",
       "version_major": 2,
       "version_minor": 0
      },
      "text/plain": [
       "HBox(children=(VBox(children=(Button(description=' Nonsmoking hotel', layout=Layout(height='100px', width='100…"
      ]
     },
     "metadata": {},
     "output_type": "display_data"
    },
    {
     "name": "stdout",
     "output_type": "stream",
     "text": [
      " Family Rooms\n",
      "Select 4 more!\n",
      "\n",
      " Public Wifi\n",
      "Select 3 more!\n",
      "\n",
      " Pets Allowed  Dog  Pet Friendly \n",
      "Select 2 more!\n",
      "\n",
      " Breakfast included\n",
      "Select 1 more!\n",
      "\n",
      " Kitchenette\n"
     ]
    }
   ],
   "source": [
    "# Tìm ra top 15 độ tiện nghi của khách sạn\n",
    "temp_amenity_df  = spark.sql(\"SELECT amenities, COUNT(amenities) AS tot_count FROM hotel_amenity_df GROUP BY amenities ORDER BY tot_count DESC\")\n",
    "top_amenities = [x[0] for x in temp_amenity_df.head(21) if x[0] != '']\n",
    "\n",
    "# Lựa chọn độ tiện nghi của du khách (chọn 5)\n",
    "amenities_pref = []\n",
    "def on_button_clicked(b):\n",
    "    if b.description in amenities_pref:\n",
    "        return\n",
    "    \n",
    "    print(b.description)\n",
    "    amenities_pref.append(b.description)\n",
    "    if(len(amenities_pref) < 5):\n",
    "        print(\"Select {x} more!\\n\".format(x=5-len(amenities_pref)))\n",
    "        \n",
    "but_layout = w.Layout(width='100%', height='100px')\n",
    "but_items = [w.Button(description=c, layout=but_layout) for c in top_amenities]\n",
    "on_clk = [item.on_click(on_button_clicked) for item in but_items]\n",
    "r1 = w.VBox([i for i in but_items[:5]])\n",
    "r2 = w.VBox([i for i in but_items[5:10]])\n",
    "r3 = w.VBox([i for i in but_items[10:]])\n",
    "buttons = w.HBox([r1,r2,r3])\n",
    "\n",
    "print(\"Select atleast 5 amenities:\")\n",
    "display(buttons)"
   ]
  },
  {
   "cell_type": "code",
   "execution_count": 7,
   "metadata": {},
   "outputs": [
    {
     "name": "stdout",
     "output_type": "stream",
     "text": [
      "+--------+\n",
      "|count(1)|\n",
      "+--------+\n",
      "|      47|\n",
      "+--------+\n",
      "\n"
     ]
    }
   ],
   "source": [
    "temp = spark.sql('select count(*) from hotel_df')\n",
    "temp.show()"
   ]
  },
  {
   "cell_type": "markdown",
   "metadata": {},
   "source": [
    "## Model training and evaluation"
   ]
  },
  {
   "cell_type": "code",
   "execution_count": 8,
   "metadata": {},
   "outputs": [
    {
     "name": "stdout",
     "output_type": "stream",
     "text": [
      "DataFrame[user_id: bigint, att_id: bigint, user_rating: bigint, prediction: float]\n",
      "best rank :  12\n",
      "best RMSE:0.0008429349471667245\n"
     ]
    },
    {
     "data": {
      "text/plain": [
       "<BarContainer object of 3 artists>"
      ]
     },
     "execution_count": 8,
     "metadata": {},
     "output_type": "execute_result"
    },
    {
     "data": {
      "image/png": "[encoded data removed]",
      "text/plain": [
       "<Figure size 640x480 with 1 Axes>"
      ]
     },
     "metadata": {},
     "output_type": "display_data"
    }
   ],
   "source": [
    "# write list to JSON file\n",
    "temp_json_amenities = []\n",
    "for amenity in amenities_pref:\n",
    "    temp_json_amenities.append({'amenities_pref': amenity})\n",
    "\n",
    "with open('temp_amenities_pref.json', 'w') as f:\n",
    "    json.dump(temp_json_amenities, f)\n",
    "\n",
    "amenities_pref_df = spark.read.json('temp_amenities_pref.json')\n",
    "\n",
    "usr_rating = amenities_rating(spark, amenities_pref_df, hotel_amenity_df)\n",
    "rank, error, errors, usrid_s2, model = model_train(spark, usr_rating)\n",
    "\n",
    "print(\"best rank : \",rank)\n",
    "print(\"best RMSE:\" +str(error))\n",
    "plt.bar([4,8,12], height=errors)"
   ]
  },
  {
   "cell_type": "markdown",
   "metadata": {},
   "source": [
    "## Getting Recommendation"
   ]
  },
  {
   "cell_type": "code",
   "execution_count": 9,
   "metadata": {},
   "outputs": [
    {
     "data": {
      "text/plain": [
       "ALSModel: uid=ALS_876ba1e6756b, rank=12"
      ]
     },
     "execution_count": 9,
     "metadata": {},
     "output_type": "execute_result"
    }
   ],
   "source": [
    "# check if model is None\n",
    "model"
   ]
  },
  {
   "cell_type": "code",
   "execution_count": 23,
   "metadata": {},
   "outputs": [
    {
     "name": "stdout",
     "output_type": "stream",
     "text": [
      "+--------------------+\n",
      "|      amenities_pref|\n",
      "+--------------------+\n",
      "|   Wheelchair Access|\n",
      "|           Microwave|\n",
      "|     Laundry Service|\n",
      "|  Breakfast included|\n",
      "|         Kitchenette|\n",
      "| Business Centre ...|\n",
      "+--------------------+\n",
      "\n"
     ]
    }
   ],
   "source": [
    "a_df = amenities_pref_df\n",
    "a_df.createOrReplaceTempView('a_df')\n",
    "\n",
    "# hotel_amenity_df.createOrReplaceTempView('temp_hotel_amenity_df')\n",
    "# newa_df = spark.sql(\"SELECT * FROM hotel_amenity_df INNER JOIN a_df WHERE hotel_amenity_df.amenities=a_df.amenities_pref\")\n",
    "\n",
    "# amenity_combo = newa_df.groupBy(functions.col(\"id\")).agg(functions.collect_list( functions.col(\"amenities\")).alias(\"amenities\"))\n",
    "\n",
    "# amenities_len=amenity_combo.withColumn(\"ameni_len\",functions.size(amenity_combo[\"amenities\"])).orderBy(functions.col(\"ameni_len\"), ascending=False)\n",
    "# amenities_len.createOrReplaceTempView(\"amenities_len\")\n",
    "\n",
    "# ameni_df = spark.sql(\"SELECT a.id,h.amenities,a.ameni_len FROM temp_hotel_amenity_df h INNER JOIN amenities_len a WHERE h.id=a.id ORDER BY a.ameni_len DESC\")\n",
    "\n",
    "# usr_rating = ameni_df.withColumn('rating', col('ameni_len'))\n",
    "\n",
    "a_df.show()"
   ]
  },
  {
   "cell_type": "code",
   "execution_count": 10,
   "metadata": {},
   "outputs": [
    {
     "name": "stdout",
     "output_type": "stream",
     "text": [
      "+---+--------------------+---------+------+\n",
      "| id|           amenities|ameni_len|rating|\n",
      "+---+--------------------+---------+------+\n",
      "|598|              Suites|        5|     5|\n",
      "|598|                 Spa|        5|     5|\n",
      "|598|    Nonsmoking rooms|        5|     5|\n",
      "|151|    Nonsmoking rooms|        5|     5|\n",
      "|598|         Kitchenette|        5|     5|\n",
      "|151|        Family Rooms|        5|     5|\n",
      "|598|        Family Rooms|        5|     5|\n",
      "|151|   SelfServe Laundry|        5|     5|\n",
      "|598| Refrigerator in ...|        5|     5|\n",
      "|151| Pets Allowed  Do...|        5|     5|\n",
      "|598|           Microwave|        5|     5|\n",
      "|151|  Multilingual Staff|        5|     5|\n",
      "|598|    Air conditioning|        5|     5|\n",
      "|151|     Laundry Service|        5|     5|\n",
      "|598|   Wheelchair Access|        5|     5|\n",
      "|151| Conference Facil...|        5|     5|\n",
      "|598|   SelfServe Laundry|        5|     5|\n",
      "|151|  Breakfast included|        5|     5|\n",
      "|598|         Public Wifi|        5|     5|\n",
      "|151|          Restaurant|        5|     5|\n",
      "+---+--------------------+---------+------+\n",
      "only showing top 20 rows\n",
      "\n"
     ]
    }
   ],
   "source": [
    "# usrid_s2.createOrReplaceTempView('usrid_s2')\n",
    "# temp = spark.sql('select count(*) from usrid_s2')\n",
    "# print(type(usrid_s2))\n",
    "# print(type(hotel_df))\n",
    "\n",
    "usr_rating.show()"
   ]
  },
  {
   "cell_type": "code",
   "execution_count": 11,
   "metadata": {},
   "outputs": [
    {
     "name": "stdout",
     "output_type": "stream",
     "text": [
      "+-------+--------------------+\n",
      "|user_id|     recommendations|\n",
      "+-------+--------------------+\n",
      "|    111|[{1999, 4.998496}...|\n",
      "+-------+--------------------+\n",
      "\n"
     ]
    }
   ],
   "source": [
    "user = usrid_s2.select(\"user_id\").distinct()\n",
    "recomm = model.recommendForUserSubset(user,50)\n",
    "recomm.createOrReplaceTempView('recomm')\n",
    "\n",
    "recomm.show()"
   ]
  },
  {
   "cell_type": "code",
   "execution_count": 11,
   "metadata": {},
   "outputs": [],
   "source": [
    "u_tempdf = get_hotel_recc(spark, usrid_s2, model)\n",
    "# hotel_df = hotel_df.join(u_tempdf, \"id\").withColumn(\"address\",functions.lower(functions.col(\"address\")))\n",
    "hotel_df = hotel_df.join(u_tempdf, \"id\")\n",
    "# user_location = place.value.lower()\n",
    "hotel_sugg = hotel_df.where(hotel_df.city == place.value)\n",
    "# hotel_sugg = hotel_df.where(hotel_df.address.contains(user_location))\n",
    "recc = hotel_sugg.dropna().toPandas()\n",
    "\n",
    "# hotel_df = spark.read.json(const.DIR_DATA_HOTEL)\n",
    "# hotel_df.createOrReplaceTempView('hotel_df')\n",
    "\n",
    "# hotel_temp_df = hotel_df.join(u_tempdf, \"id\")\n",
    "\n",
    "\n",
    "# TODO:\n",
    "# u_tempdf.createOrReplaceTempView('u_tempdf')\n",
    "# temp = spark.sql('select * from u_tempdf limit 30')\n",
    "# temp.show()"
   ]
  },
  {
   "cell_type": "code",
   "execution_count": 12,
   "metadata": {},
   "outputs": [
    {
     "data": {
      "text/html": [
       "<div>\n",
       "<style scoped>\n",
       "    .dataframe tbody tr th:only-of-type {\n",
       "        vertical-align: middle;\n",
       "    }\n",
       "\n",
       "    .dataframe tbody tr th {\n",
       "        vertical-align: top;\n",
       "    }\n",
       "\n",
       "    .dataframe thead th {\n",
       "        text-align: right;\n",
       "    }\n",
       "</style>\n",
       "<table border=\"1\" class=\"dataframe\">\n",
       "  <thead>\n",
       "    <tr style=\"text-align: right;\">\n",
       "      <th></th>\n",
       "      <th>id</th>\n",
       "      <th>amenities</th>\n",
       "      <th>city</th>\n",
       "      <th>hotel_name</th>\n",
       "      <th>hotel_rating</th>\n",
       "      <th>location</th>\n",
       "      <th>price</th>\n",
       "    </tr>\n",
       "  </thead>\n",
       "  <tbody>\n",
       "    <tr>\n",
       "      <th>0</th>\n",
       "      <td>1999</td>\n",
       "      <td>[lodging, point_of_interest, establishment]</td>\n",
       "      <td>Hà Nội</td>\n",
       "      <td>Green Hostel</td>\n",
       "      <td>4.4</td>\n",
       "      <td>(21.0382601, 105.8293268)</td>\n",
       "      <td>0</td>\n",
       "    </tr>\n",
       "    <tr>\n",
       "      <th>1</th>\n",
       "      <td>1999</td>\n",
       "      <td>[lodging, point_of_interest, establishment]</td>\n",
       "      <td>Hà Nội</td>\n",
       "      <td>Saigon Sun Hotel 1</td>\n",
       "      <td>3.5</td>\n",
       "      <td>(21.0195574, 105.8254407)</td>\n",
       "      <td>600000</td>\n",
       "    </tr>\n",
       "    <tr>\n",
       "      <th>2</th>\n",
       "      <td>1999</td>\n",
       "      <td>[lodging, point_of_interest, establishment]</td>\n",
       "      <td>Hà Nội</td>\n",
       "      <td>Thanglong GTC Hanoi Hotel</td>\n",
       "      <td>3.7</td>\n",
       "      <td>(21.0264139, 105.8368171)</td>\n",
       "      <td>0</td>\n",
       "    </tr>\n",
       "    <tr>\n",
       "      <th>3</th>\n",
       "      <td>1999</td>\n",
       "      <td>[lodging, point_of_interest, establishment]</td>\n",
       "      <td>Hà Nội</td>\n",
       "      <td>Green Hostel</td>\n",
       "      <td>4.4</td>\n",
       "      <td>(21.0382601, 105.8293268)</td>\n",
       "      <td>0</td>\n",
       "    </tr>\n",
       "    <tr>\n",
       "      <th>4</th>\n",
       "      <td>1999</td>\n",
       "      <td>[lodging, point_of_interest, establishment]</td>\n",
       "      <td>Hà Nội</td>\n",
       "      <td>Saigon Sun Hotel 1</td>\n",
       "      <td>3.5</td>\n",
       "      <td>(21.0195574, 105.8254407)</td>\n",
       "      <td>600000</td>\n",
       "    </tr>\n",
       "    <tr>\n",
       "      <th>...</th>\n",
       "      <td>...</td>\n",
       "      <td>...</td>\n",
       "      <td>...</td>\n",
       "      <td>...</td>\n",
       "      <td>...</td>\n",
       "      <td>...</td>\n",
       "      <td>...</td>\n",
       "    </tr>\n",
       "    <tr>\n",
       "      <th>179</th>\n",
       "      <td>2538</td>\n",
       "      <td>[lodging, point_of_interest, establishment]</td>\n",
       "      <td>Hà Nội</td>\n",
       "      <td>Beryl Palace Hotel and Spa</td>\n",
       "      <td>4.0</td>\n",
       "      <td>(21.0290368, 105.844965)</td>\n",
       "      <td>700000</td>\n",
       "    </tr>\n",
       "    <tr>\n",
       "      <th>180</th>\n",
       "      <td>2538</td>\n",
       "      <td>[lodging, point_of_interest, establishment]</td>\n",
       "      <td>Hà Nội</td>\n",
       "      <td>Felice Hostel</td>\n",
       "      <td>4.0</td>\n",
       "      <td>(21.031582, 105.844331)</td>\n",
       "      <td>0</td>\n",
       "    </tr>\n",
       "    <tr>\n",
       "      <th>181</th>\n",
       "      <td>2538</td>\n",
       "      <td>[lodging, point_of_interest, establishment]</td>\n",
       "      <td>Hà Nội</td>\n",
       "      <td>Beryl Palace Hotel and Spa</td>\n",
       "      <td>4.0</td>\n",
       "      <td>(21.0290368, 105.844965)</td>\n",
       "      <td>700000</td>\n",
       "    </tr>\n",
       "    <tr>\n",
       "      <th>182</th>\n",
       "      <td>2538</td>\n",
       "      <td>[lodging, point_of_interest, establishment]</td>\n",
       "      <td>Hà Nội</td>\n",
       "      <td>Felice Hostel</td>\n",
       "      <td>4.0</td>\n",
       "      <td>(21.031582, 105.844331)</td>\n",
       "      <td>0</td>\n",
       "    </tr>\n",
       "    <tr>\n",
       "      <th>183</th>\n",
       "      <td>2538</td>\n",
       "      <td>[lodging, point_of_interest, establishment]</td>\n",
       "      <td>Hà Nội</td>\n",
       "      <td>Beryl Palace Hotel and Spa</td>\n",
       "      <td>4.0</td>\n",
       "      <td>(21.0290368, 105.844965)</td>\n",
       "      <td>700000</td>\n",
       "    </tr>\n",
       "  </tbody>\n",
       "</table>\n",
       "<p>184 rows × 7 columns</p>\n",
       "</div>"
      ],
      "text/plain": [
       "       id                                    amenities    city  \\\n",
       "0    1999  [lodging, point_of_interest, establishment]  Hà Nội   \n",
       "1    1999  [lodging, point_of_interest, establishment]  Hà Nội   \n",
       "2    1999  [lodging, point_of_interest, establishment]  Hà Nội   \n",
       "3    1999  [lodging, point_of_interest, establishment]  Hà Nội   \n",
       "4    1999  [lodging, point_of_interest, establishment]  Hà Nội   \n",
       "..    ...                                          ...     ...   \n",
       "179  2538  [lodging, point_of_interest, establishment]  Hà Nội   \n",
       "180  2538  [lodging, point_of_interest, establishment]  Hà Nội   \n",
       "181  2538  [lodging, point_of_interest, establishment]  Hà Nội   \n",
       "182  2538  [lodging, point_of_interest, establishment]  Hà Nội   \n",
       "183  2538  [lodging, point_of_interest, establishment]  Hà Nội   \n",
       "\n",
       "                     hotel_name  hotel_rating                   location  \\\n",
       "0                  Green Hostel           4.4  (21.0382601, 105.8293268)   \n",
       "1            Saigon Sun Hotel 1           3.5  (21.0195574, 105.8254407)   \n",
       "2     Thanglong GTC Hanoi Hotel           3.7  (21.0264139, 105.8368171)   \n",
       "3                  Green Hostel           4.4  (21.0382601, 105.8293268)   \n",
       "4            Saigon Sun Hotel 1           3.5  (21.0195574, 105.8254407)   \n",
       "..                          ...           ...                        ...   \n",
       "179  Beryl Palace Hotel and Spa           4.0   (21.0290368, 105.844965)   \n",
       "180               Felice Hostel           4.0    (21.031582, 105.844331)   \n",
       "181  Beryl Palace Hotel and Spa           4.0   (21.0290368, 105.844965)   \n",
       "182               Felice Hostel           4.0    (21.031582, 105.844331)   \n",
       "183  Beryl Palace Hotel and Spa           4.0   (21.0290368, 105.844965)   \n",
       "\n",
       "      price  \n",
       "0         0  \n",
       "1    600000  \n",
       "2         0  \n",
       "3         0  \n",
       "4    600000  \n",
       "..      ...  \n",
       "179  700000  \n",
       "180       0  \n",
       "181  700000  \n",
       "182       0  \n",
       "183  700000  \n",
       "\n",
       "[184 rows x 7 columns]"
      ]
     },
     "execution_count": 12,
     "metadata": {},
     "output_type": "execute_result"
    }
   ],
   "source": [
    "# hotel_df.createOrReplaceTempView('temp')\n",
    "# a = spark.sql('select count(*) from temp')\n",
    "# hotel_sugg.show()\n",
    "# u_tempdf.show()\n",
    "recc\n",
    "# hotel_df.show()"
   ]
  },
  {
   "cell_type": "code",
   "execution_count": 13,
   "metadata": {},
   "outputs": [],
   "source": [
    "%%capture\n",
    "final = dict()\n",
    "# final['address'] = recc[:5]['address'].values.tolist()\n",
    "final['amenities'] = recc[:5]['amenities'].values.T.tolist()\n",
    "# final['experience'] = recc[:5]['hotel_experience'].values.tolist()\n",
    "final['name'] = recc[:5]['hotel_name'].values.tolist()\n",
    "final['rating'] = recc[:5]['hotel_rating'].values.tolist()\n",
    "final['location'] = [i[1:-1] for i in recc[:5]['location'].values.tolist()]\n",
    "final['price'] = recc[:5]['price'].values.tolist()\n",
    "final['image'] = [get_image(i) for i in recc[:5]['hotel_name'].values.tolist()]\n",
    "\n"
   ]
  },
  {
   "cell_type": "code",
   "execution_count": 15,
   "metadata": {},
   "outputs": [
    {
     "data": {
      "text/plain": [
       "{'amenities': [['lodging', 'point_of_interest', 'establishment'],\n",
       "  ['lodging', 'point_of_interest', 'establishment'],\n",
       "  ['lodging', 'point_of_interest', 'establishment'],\n",
       "  ['lodging', 'point_of_interest', 'establishment'],\n",
       "  ['lodging', 'point_of_interest', 'establishment']],\n",
       " 'name': ['Green Hostel',\n",
       "  'Saigon Sun Hotel 1',\n",
       "  'Thanglong GTC Hanoi Hotel',\n",
       "  'Green Hostel',\n",
       "  'Saigon Sun Hotel 1'],\n",
       " 'rating': [4.4, 3.5, 3.7, 4.4, 3.5],\n",
       " 'location': ['21.0382601, 105.8293268',\n",
       "  '21.0195574, 105.8254407',\n",
       "  '21.0264139, 105.8368171',\n",
       "  '21.0382601, 105.8293268',\n",
       "  '21.0195574, 105.8254407'],\n",
       " 'price': [0, 600000, 0, 0, 600000],\n",
       " 'image': ['../assets/images/noimage.jpg', None, None, None, None]}"
      ]
     },
     "execution_count": 15,
     "metadata": {},
     "output_type": "execute_result"
    }
   ],
   "source": [
    "final"
   ]
  },
  {
   "cell_type": "markdown",
   "metadata": {},
   "source": [
    "## Final Output"
   ]
  },
  {
   "cell_type": "code",
   "execution_count": 14,
   "metadata": {},
   "outputs": [
    {
     "ename": "KeyError",
     "evalue": "'experience'",
     "output_type": "error",
     "traceback": [
      "\u001b[1;31m---------------------------------------------------------------------------\u001b[0m",
      "\u001b[1;31mKeyError\u001b[0m                                  Traceback (most recent call last)",
      "Cell \u001b[1;32mIn[14], line 2\u001b[0m\n\u001b[0;32m      1\u001b[0m days \u001b[39m=\u001b[39m (end\u001b[39m.\u001b[39mvalue \u001b[39m-\u001b[39m start\u001b[39m.\u001b[39mvalue)\u001b[39m.\u001b[39mdays\n\u001b[1;32m----> 2\u001b[0m tab_recc \u001b[39m=\u001b[39m get_hotel_output(days, final)\n\u001b[0;32m      3\u001b[0m display(tab_recc)\n",
      "File \u001b[1;32mc:\\Users\\thapq\\khoa_luan_tot_nghiep\\tourist-rec-model\\main-model\\src\\hotel_rec.py:188\u001b[0m, in \u001b[0;36mget_hotel_output\u001b[1;34m(days, final)\u001b[0m\n\u001b[0;32m    186\u001b[0m price\u001b[39m=\u001b[39m final[\u001b[39m'\u001b[39m\u001b[39mprice\u001b[39m\u001b[39m'\u001b[39m][i]\n\u001b[0;32m    187\u001b[0m rating\u001b[39m=\u001b[39m final[\u001b[39m'\u001b[39m\u001b[39mrating\u001b[39m\u001b[39m'\u001b[39m][i]\n\u001b[1;32m--> 188\u001b[0m experience\u001b[39m=\u001b[39m final[\u001b[39m'\u001b[39;49m\u001b[39mexperience\u001b[39;49m\u001b[39m'\u001b[39;49m][i]\n\u001b[0;32m    189\u001b[0m loc\u001b[39m=\u001b[39mfinal[\u001b[39m'\u001b[39m\u001b[39mlocation\u001b[39m\u001b[39m'\u001b[39m][i]\n\u001b[0;32m    190\u001b[0m address\u001b[39m=\u001b[39mfinal[\u001b[39m'\u001b[39m\u001b[39maddress\u001b[39m\u001b[39m'\u001b[39m][i]\n",
      "\u001b[1;31mKeyError\u001b[0m: 'experience'"
     ]
    }
   ],
   "source": [
    "days = (end.value - start.value).days\n",
    "tab_recc = get_hotel_output(days, final)\n",
    "display(tab_recc)"
   ]
  },
  {
   "cell_type": "code",
   "execution_count": null,
   "metadata": {},
   "outputs": [],
   "source": []
  },
  {
   "cell_type": "code",
   "execution_count": null,
   "metadata": {},
   "outputs": [],
   "source": []
  }
 ],
 "metadata": {
  "kernelspec": {
   "display_name": "Python 3",
   "language": "python",
   "name": "python3"
  },
  "language_info": {
   "codemirror_mode": {
    "name": "ipython",
    "version": 3
   },
   "file_extension": ".py",
   "mimetype": "text/x-python",
   "name": "python",
   "nbconvert_exporter": "python",
   "pygments_lexer": "ipython3",
   "version": "3.11.0"
  }
 },
 "nbformat": 4,
 "nbformat_minor": 2
}
