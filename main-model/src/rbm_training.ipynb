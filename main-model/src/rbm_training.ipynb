{
 "cells": [
  {
   "cell_type": "code",
   "execution_count": 4,
   "metadata": {},
   "outputs": [],
   "source": [
    "import numpy as np\n",
    "from utils import Util\n",
    "from rbm import RBM\n",
    "from IPython.display import display as d"
   ]
  },
  {
   "cell_type": "code",
   "execution_count": 5,
   "metadata": {},
   "outputs": [
    {
     "name": "stdout",
     "output_type": "stream",
     "text": [
      "Reading the data\n",
      "Reading the data\n",
      "Extracting num_rows from ratings\n",
      "Preprocessing the dataset\n",
      "Free energy required, dividing into train and validation sets\n",
      "Total size of the data is: 2\n",
      "Size of the training data is: 1\n",
      "Size of the validation data is: 1\n"
     ]
    }
   ],
   "source": [
    "util = Util()\n",
    "\n",
    "dir = '../data/attraction/'\n",
    "attractions_filename = 'attractions.json'\n",
    "ratings_attr_filename = 'attraction_reviews.json'\n",
    "\n",
    "num_rows = 5000\n",
    "\n",
    "attractions = util.read_data(dir, attractions_filename)\n",
    "ratings = util.read_data(dir, ratings_attr_filename)\n",
    "\n",
    "ratings = util.clean_subset(ratings, num_rows)\n",
    "num_vis =  len(ratings) # number of visible units\n",
    "\n",
    "free_energy = True\n",
    "train = util.preprocess(ratings)\n",
    "valid = None\n",
    "\n",
    "if free_energy:\n",
    "    train, valid = util.split_data(train)\n",
    "\n",
    "H = 128 # number of hidden units\n",
    "\n",
    "# user = 1\n",
    "user = 0 # id of user\n",
    "\n",
    "alpha = 0.01\n",
    "w = np.random.normal(loc=0, scale=0.01, size=[num_vis, H]) # ma trận trọng số (weight matrix)\n",
    "rbm = RBM(alpha, H, num_vis)\n",
    "\n",
    "epochs = 20\n",
    "\n",
    "batch_size = 16 # số lượng bản ghi mẫu trong mỗi lần huấn luyện\n",
    "\n",
    "v = True"
   ]
  },
  {
   "cell_type": "code",
   "execution_count": 6,
   "metadata": {},
   "outputs": [
    {
     "name": "stdout",
     "output_type": "stream",
     "text": [
      "Phase 1: Input Processing\n",
      "Phase 2: Reconstruction\n",
      "Creating the gradients\n",
      "Running the session\n",
      "Training RBM with 20 epochs and batch size: 16\n",
      "Starting the training process\n",
      "Error after 1 epochs is: 34742.01953125\n",
      "Error after 2 epochs is: 34739.52734375\n",
      "Error after 3 epochs is: 34742.671875\n",
      "Error after 4 epochs is: 34741.140625\n",
      "Error after 5 epochs is: 34742.0625\n",
      "Error after 6 epochs is: 34743.73046875\n",
      "Error after 7 epochs is: 34743.72265625\n",
      "Error after 8 epochs is: 34740.72265625\n",
      "Error after 9 epochs is: 34739.91796875\n",
      "Error after 10 epochs is: 34739.8359375\n",
      "Error after 11 epochs is: 34740.55859375\n",
      "Error after 12 epochs is: 34742.28515625\n",
      "Error after 13 epochs is: 34739.63671875\n",
      "Error after 14 epochs is: 34740.828125\n",
      "Error after 15 epochs is: 34742.40234375\n",
      "Error after 16 epochs is: 34742.22265625\n",
      "Error after 17 epochs is: 34741.59765625\n",
      "Error after 18 epochs is: 34741.375\n",
      "Error after 19 epochs is: 34742.55078125\n",
      "Error after 20 epochs is: 34742.5234375\n",
      "Exporting free energy plot\n",
      "Exporting errors vs epochs plot\n",
      "Model restored\n"
     ]
    }
   ],
   "source": [
    "filename = \"e\"+str(epochs)+\"_r\"+str(num_rows)+\"_lr\"+str(alpha)+\"_hu\"+str(H)+\"_bs\"+str(batch_size)\n",
    "\n",
    "# training process\n",
    "reco, prv_w, prv_vb, prv_hb = rbm.training(train, valid, user, epochs, batch_size, free_energy, v, filename)\n",
    "\n",
    "# test saved and loaded model \n",
    "reco_l, prv_w_l, prv_vb_l, prv_hb_l = rbm.load_predict(filename, train, user)"
   ]
  },
  {
   "cell_type": "code",
   "execution_count": 7,
   "metadata": {},
   "outputs": [
    {
     "name": "stdout",
     "output_type": "stream",
     "text": [
      "Model saved and loaded successfully\n"
     ]
    }
   ],
   "source": [
    "if np.all(prv_w == prv_w_l) and np.all(prv_vb == prv_vb_l) and np.all(prv_hb == prv_hb_l):\n",
    "    print (\"Model saved and loaded successfully\")"
   ]
  },
  {
   "cell_type": "code",
   "execution_count": 9,
   "metadata": {},
   "outputs": [
    {
     "data": {
      "text/html": [
       "<div>\n",
       "<style scoped>\n",
       "    .dataframe tbody tr th:only-of-type {\n",
       "        vertical-align: middle;\n",
       "    }\n",
       "\n",
       "    .dataframe tbody tr th {\n",
       "        vertical-align: top;\n",
       "    }\n",
       "\n",
       "    .dataframe thead th {\n",
       "        text-align: right;\n",
       "    }\n",
       "</style>\n",
       "<table border=\"1\" class=\"dataframe\">\n",
       "  <thead>\n",
       "    <tr style=\"text-align: right;\">\n",
       "      <th></th>\n",
       "      <th>attraction_id</th>\n",
       "      <th>Recommendation Score</th>\n",
       "    </tr>\n",
       "  </thead>\n",
       "  <tbody>\n",
       "    <tr>\n",
       "      <th>0</th>\n",
       "      <td>1</td>\n",
       "      <td>0.538496</td>\n",
       "    </tr>\n",
       "    <tr>\n",
       "      <th>1</th>\n",
       "      <td>2</td>\n",
       "      <td>0.513308</td>\n",
       "    </tr>\n",
       "    <tr>\n",
       "      <th>2</th>\n",
       "      <td>4</td>\n",
       "      <td>0.557116</td>\n",
       "    </tr>\n",
       "    <tr>\n",
       "      <th>3</th>\n",
       "      <td>5</td>\n",
       "      <td>0.530403</td>\n",
       "    </tr>\n",
       "    <tr>\n",
       "      <th>4</th>\n",
       "      <td>7</td>\n",
       "      <td>0.523230</td>\n",
       "    </tr>\n",
       "    <tr>\n",
       "      <th>...</th>\n",
       "      <td>...</td>\n",
       "      <td>...</td>\n",
       "    </tr>\n",
       "    <tr>\n",
       "      <th>160</th>\n",
       "      <td>187</td>\n",
       "      <td>0.519652</td>\n",
       "    </tr>\n",
       "    <tr>\n",
       "      <th>161</th>\n",
       "      <td>188</td>\n",
       "      <td>0.549923</td>\n",
       "    </tr>\n",
       "    <tr>\n",
       "      <th>162</th>\n",
       "      <td>189</td>\n",
       "      <td>0.534384</td>\n",
       "    </tr>\n",
       "    <tr>\n",
       "      <th>163</th>\n",
       "      <td>190</td>\n",
       "      <td>0.559895</td>\n",
       "    </tr>\n",
       "    <tr>\n",
       "      <th>164</th>\n",
       "      <td>192</td>\n",
       "      <td>0.529136</td>\n",
       "    </tr>\n",
       "  </tbody>\n",
       "</table>\n",
       "<p>165 rows × 2 columns</p>\n",
       "</div>"
      ],
      "text/plain": [
       "     attraction_id  Recommendation Score\n",
       "0                1              0.538496\n",
       "1                2              0.513308\n",
       "2                4              0.557116\n",
       "3                5              0.530403\n",
       "4                7              0.523230\n",
       "..             ...                   ...\n",
       "160            187              0.519652\n",
       "161            188              0.549923\n",
       "162            189              0.534384\n",
       "163            190              0.559895\n",
       "164            192              0.529136\n",
       "\n",
       "[165 rows x 2 columns]"
      ]
     },
     "metadata": {},
     "output_type": "display_data"
    }
   ],
   "source": [
    "unseen, seen = rbm.calculate_scores(ratings, attractions, reco_l, user)\n",
    "rbm.export(unseen, seen, '../recommendations/'+filename, str(user))"
   ]
  }
 ],
 "metadata": {
  "kernelspec": {
   "display_name": "Python 3",
   "language": "python",
   "name": "python3"
  },
  "language_info": {
   "codemirror_mode": {
    "name": "ipython",
    "version": 3
   },
   "file_extension": ".py",
   "mimetype": "text/x-python",
   "name": "python",
   "nbconvert_exporter": "python",
   "pygments_lexer": "ipython3",
   "version": "3.11.0"
  },
  "orig_nbformat": 4
 },
 "nbformat": 4,
 "nbformat_minor": 2
}
