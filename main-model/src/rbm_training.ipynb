{
 "cells": [
  {
   "cell_type": "code",
   "execution_count": 1,
   "metadata": {},
   "outputs": [
    {
     "name": "stdout",
     "output_type": "stream",
     "text": [
      "WARNING:tensorflow:From C:\\Users\\thapq\\AppData\\Roaming\\Python\\Python311\\site-packages\\tensorflow\\python\\compat\\v2_compat.py:107: disable_resource_variables (from tensorflow.python.ops.variable_scope) is deprecated and will be removed in a future version.\n",
      "Instructions for updating:\n",
      "non-resource variables are not supported in the long term\n"
     ]
    }
   ],
   "source": [
    "import numpy as np\n",
    "from utils import Util\n",
    "from rbm import RBM\n",
    "from IPython.display import display as d"
   ]
  },
  {
   "cell_type": "code",
   "execution_count": 2,
   "metadata": {},
   "outputs": [
    {
     "name": "stdout",
     "output_type": "stream",
     "text": [
      "Reading the data\n",
      "Reading the data\n",
      "Extracting num_rows from ratings\n",
      "Preprocessing the dataset\n",
      "Free energy required, dividing into train and validation sets\n",
      "Total size of the data is: 2\n",
      "Size of the training data is: 1\n",
      "Size of the validation data is: 1\n"
     ]
    }
   ],
   "source": [
    "util = Util()\n",
    "\n",
    "dir = '../data/attraction/'\n",
    "attractions_filename = 'attractions.json'\n",
    "ratings_attr_filename = 'attraction_reviews.json'\n",
    "\n",
    "# Số hàng ban đầu được tham gia vào quá trình training\n",
    "# num_rows = 5000\n",
    "# num_rows = 10000\n",
    "num_rows = 15000\n",
    "\n",
    "attractions = util.read_data(dir, attractions_filename)\n",
    "ratings = util.read_data(dir, ratings_attr_filename)\n",
    "\n",
    "ratings = util.clean_subset(ratings, num_rows)\n",
    "num_vis =  len(ratings) # số hàng thực sự được tham gia vào training (number of visible rows)\n",
    "\n",
    "free_energy = True\n",
    "train = util.preprocess(ratings)\n",
    "valid = None\n",
    "\n",
    "if free_energy:\n",
    "    train, valid = util.split_data(train)\n",
    "\n",
    "# H = 128\n",
    "H = 256\n",
    "\n",
    "# user = 1\n",
    "user = 0\n",
    "\n",
    "alpha = 0.01\n",
    "w = np.random.normal(loc=0, scale=0.01, size=[num_vis, H]) # ma trận trọng số (weight matrix)\n",
    "rbm = RBM(alpha, H, num_vis)\n",
    "\n",
    "# epochs = 20\n",
    "# epochs = 50\n",
    "epochs = 70\n",
    "\n",
    "# batch_size = 8\n",
    "# batch_size = 16\n",
    "batch_size = 32\n",
    "\n",
    "v = True"
   ]
  },
  {
   "cell_type": "code",
   "execution_count": 3,
   "metadata": {},
   "outputs": [
    {
     "name": "stdout",
     "output_type": "stream",
     "text": [
      "Phase 1: Input Processing\n",
      "Phase 2: Reconstruction\n",
      "Creating the gradients\n",
      "Running the session\n",
      "Training RBM with 70 epochs and batch size: 32\n",
      "Starting the training process\n",
      "Error after 1 epochs is: 617443.0\n",
      "Error after 2 epochs is: 617443.25\n",
      "Error after 3 epochs is: 617451.3125\n",
      "Error after 4 epochs is: 617451.875\n",
      "Error after 5 epochs is: 617445.375\n",
      "Error after 6 epochs is: 617453.75\n",
      "Error after 7 epochs is: 617448.5\n",
      "Error after 8 epochs is: 617447.25\n",
      "Error after 9 epochs is: 617446.125\n",
      "Error after 10 epochs is: 617445.125\n",
      "Error after 11 epochs is: 617443.375\n",
      "Error after 12 epochs is: 617446.6875\n",
      "Error after 13 epochs is: 617451.8125\n",
      "Error after 14 epochs is: 617448.375\n",
      "Error after 15 epochs is: 617449.875\n",
      "Error after 16 epochs is: 617451.875\n",
      "Error after 17 epochs is: 617442.0\n",
      "Error after 18 epochs is: 617451.0\n",
      "Error after 19 epochs is: 617448.75\n",
      "Error after 20 epochs is: 617445.1875\n",
      "Error after 21 epochs is: 617448.25\n",
      "Error after 22 epochs is: 617452.4375\n",
      "Error after 23 epochs is: 617449.625\n",
      "Error after 24 epochs is: 617446.75\n",
      "Error after 25 epochs is: 617447.25\n",
      "Error after 26 epochs is: 617455.125\n",
      "Error after 27 epochs is: 617449.125\n",
      "Error after 28 epochs is: 617442.5\n",
      "Error after 29 epochs is: 617451.5625\n",
      "Error after 30 epochs is: 617450.4375\n",
      "Error after 31 epochs is: 617446.875\n",
      "Error after 32 epochs is: 617446.625\n",
      "Error after 33 epochs is: 617451.1875\n",
      "Error after 34 epochs is: 617448.1875\n",
      "Error after 35 epochs is: 617445.5\n",
      "Error after 36 epochs is: 617444.625\n",
      "Error after 37 epochs is: 617450.0625\n",
      "Error after 38 epochs is: 617444.9375\n",
      "Error after 39 epochs is: 617443.5625\n",
      "Error after 40 epochs is: 617444.5\n",
      "Error after 41 epochs is: 617447.4375\n",
      "Error after 42 epochs is: 617448.3125\n",
      "Error after 43 epochs is: 617450.75\n",
      "Error after 44 epochs is: 617447.25\n",
      "Error after 45 epochs is: 617446.4375\n",
      "Error after 46 epochs is: 617450.125\n",
      "Error after 47 epochs is: 617443.1875\n",
      "Error after 48 epochs is: 617441.4375\n",
      "Error after 49 epochs is: 617448.8125\n",
      "Error after 50 epochs is: 617445.25\n",
      "Error after 51 epochs is: 617449.5625\n",
      "Error after 52 epochs is: 617447.8125\n",
      "Error after 53 epochs is: 617447.0\n",
      "Error after 54 epochs is: 617445.875\n",
      "Error after 55 epochs is: 617448.75\n",
      "Error after 56 epochs is: 617451.3125\n",
      "Error after 57 epochs is: 617445.625\n",
      "Error after 58 epochs is: 617448.3125\n",
      "Error after 59 epochs is: 617443.75\n",
      "Error after 60 epochs is: 617442.875\n",
      "Error after 61 epochs is: 617446.5625\n",
      "Error after 62 epochs is: 617445.4375\n",
      "Error after 63 epochs is: 617444.0625\n",
      "Error after 64 epochs is: 617449.0625\n",
      "Error after 65 epochs is: 617444.5625\n",
      "Error after 66 epochs is: 617448.1875\n",
      "Error after 67 epochs is: 617447.125\n",
      "Error after 68 epochs is: 617446.875\n",
      "Error after 69 epochs is: 617442.8125\n",
      "Error after 70 epochs is: 617446.25\n",
      "Exporting free energy plot\n",
      "Exporting errors vs epochs plot\n",
      "Model restored\n"
     ]
    }
   ],
   "source": [
    "filename = \"e\"+str(epochs)+\"_r\"+str(num_rows)+\"_lr\"+str(alpha)+\"_hu\"+str(H)+\"_bs\"+str(batch_size)\n",
    "reco, prv_w, prv_vb, prv_hb = rbm.training(train, valid, user, epochs, batch_size, free_energy, v, filename)\n",
    "reco_l, prv_w_l, prv_vb_l, prv_hb_l = rbm.load_predict(filename, train, user)"
   ]
  },
  {
   "cell_type": "code",
   "execution_count": 4,
   "metadata": {},
   "outputs": [
    {
     "name": "stdout",
     "output_type": "stream",
     "text": [
      "Model saved and loaded successfully\n"
     ]
    }
   ],
   "source": [
    "if np.all(prv_w == prv_w_l) and np.all(prv_vb == prv_vb_l) and np.all(prv_hb == prv_hb_l):\n",
    "    print (\"Model saved and loaded successfully\")"
   ]
  },
  {
   "cell_type": "code",
   "execution_count": 6,
   "metadata": {},
   "outputs": [
    {
     "data": {
      "text/html": [
       "<div>\n",
       "<style scoped>\n",
       "    .dataframe tbody tr th:only-of-type {\n",
       "        vertical-align: middle;\n",
       "    }\n",
       "\n",
       "    .dataframe tbody tr th {\n",
       "        vertical-align: top;\n",
       "    }\n",
       "\n",
       "    .dataframe thead th {\n",
       "        text-align: right;\n",
       "    }\n",
       "</style>\n",
       "<table border=\"1\" class=\"dataframe\">\n",
       "  <thead>\n",
       "    <tr style=\"text-align: right;\">\n",
       "      <th></th>\n",
       "      <th>attraction_id</th>\n",
       "      <th>Recommendation Score</th>\n",
       "    </tr>\n",
       "  </thead>\n",
       "  <tbody>\n",
       "    <tr>\n",
       "      <th>0</th>\n",
       "      <td>1</td>\n",
       "      <td>0.570045</td>\n",
       "    </tr>\n",
       "    <tr>\n",
       "      <th>1</th>\n",
       "      <td>2</td>\n",
       "      <td>0.579394</td>\n",
       "    </tr>\n",
       "    <tr>\n",
       "      <th>2</th>\n",
       "      <td>4</td>\n",
       "      <td>0.560222</td>\n",
       "    </tr>\n",
       "    <tr>\n",
       "      <th>3</th>\n",
       "      <td>5</td>\n",
       "      <td>0.576579</td>\n",
       "    </tr>\n",
       "    <tr>\n",
       "      <th>4</th>\n",
       "      <td>7</td>\n",
       "      <td>0.556862</td>\n",
       "    </tr>\n",
       "  </tbody>\n",
       "</table>\n",
       "</div>"
      ],
      "text/plain": [
       "   attraction_id  Recommendation Score\n",
       "0              1              0.570045\n",
       "1              2              0.579394\n",
       "2              4              0.560222\n",
       "3              5              0.576579\n",
       "4              7              0.556862"
      ]
     },
     "metadata": {},
     "output_type": "display_data"
    }
   ],
   "source": [
    "unseen, seen = rbm.calculate_scores(ratings, attractions, reco_l, user)\n",
    "rbm.export(unseen, seen, '../recommendations/'+filename, str(user))"
   ]
  }
 ],
 "metadata": {
  "kernelspec": {
   "display_name": "Python 3",
   "language": "python",
   "name": "python3"
  },
  "language_info": {
   "codemirror_mode": {
    "name": "ipython",
    "version": 3
   },
   "file_extension": ".py",
   "mimetype": "text/x-python",
   "name": "python",
   "nbconvert_exporter": "python",
   "pygments_lexer": "ipython3",
   "version": "3.11.0"
  },
  "orig_nbformat": 4
 },
 "nbformat": 4,
 "nbformat_minor": 2
}
