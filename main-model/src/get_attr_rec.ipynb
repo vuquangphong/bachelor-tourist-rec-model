{
 "cells": [
  {
   "cell_type": "code",
   "execution_count": 2,
   "metadata": {},
   "outputs": [
    {
     "name": "stdout",
     "output_type": "stream",
     "text": [
      "WARNING:tensorflow:From C:\\Users\\thapq\\AppData\\Roaming\\Python\\Python311\\site-packages\\tensorflow\\python\\compat\\v2_compat.py:107: disable_resource_variables (from tensorflow.python.ops.variable_scope) is deprecated and will be removed in a future version.\n",
      "Instructions for updating:\n",
      "non-resource variables are not supported in the long term\n"
     ]
    }
   ],
   "source": [
    "from attr_rec import *\n",
    "from IPython.display import display\n",
    "import ipywidgets as widgets\n",
    "import pandas as pd\n",
    "import re"
   ]
  },
  {
   "cell_type": "code",
   "execution_count": 3,
   "metadata": {},
   "outputs": [],
   "source": [
    "att_df = pd.read_json('../data/attraction/attractions.json',orient='records')"
   ]
  },
  {
   "attachments": {},
   "cell_type": "markdown",
   "metadata": {},
   "source": [
    "## User details and Preferences"
   ]
  },
  {
   "cell_type": "code",
   "execution_count": 4,
   "metadata": {},
   "outputs": [
    {
     "data": {
      "application/vnd.jupyter.widget-view+json": {
       "model_id": "09f6465ac67f464f83badd0d93b744c0",
       "version_major": 2,
       "version_minor": 0
      },
      "text/plain": [
       "HBox(children=(VBox(children=(Text(value='', description='Tên người dùng', style=TextStyle(description_width='…"
      ]
     },
     "metadata": {},
     "output_type": "display_data"
    }
   ],
   "source": [
    "options_place = list(att_df.groupby('city').size().reset_index().sort_values([0], ascending=True).city.values)\n",
    "\n",
    "uname = widgets.Text(description=\"Tên người dùng\", style=dict(description_width='111px'))\n",
    "place = widgets.Dropdown(options=options_place, description='Điểm đến (Tỉnh/TP)', style=dict(description_width='111px'))\n",
    "budget = widgets.IntRangeSlider(min=0, max=10000000, step=10000, value=[0, 10000000], description=\"Kinh phí (VND)\", style=dict(description_width='111px'))\n",
    "v1 = widgets.VBox([uname,place,budget])\n",
    "v1.layout.width = '400px'\n",
    "start = widgets.DatePicker(description='Ngày bắt đầu', disabled=False, style=dict(description_width='100px'))\n",
    "end = widgets.DatePicker(description='Ngày kết thúc', disabled=False, style=dict(description_width='100px'))\n",
    "v2 = widgets.VBox([start,end])\n",
    "out = widgets.HBox([v1,v2])\n",
    "display(out)"
   ]
  },
  {
   "cell_type": "code",
   "execution_count": 5,
   "metadata": {},
   "outputs": [
    {
     "name": "stdout",
     "output_type": "stream",
     "text": [
      "Select and rate atleast 5 categories and rate them:\n"
     ]
    },
    {
     "data": {
      "application/vnd.jupyter.widget-view+json": {
       "model_id": "c96b231572ee4440b408615f6eae93cf",
       "version_major": 2,
       "version_minor": 0
      },
      "text/plain": [
       "HBox(children=(VBox(children=(Button(description='Đồ uống, thư giãn', layout=Layout(height='100px', width='100…"
      ]
     },
     "metadata": {},
     "output_type": "display_data"
    },
    {
     "name": "stdout",
     "output_type": "stream",
     "text": [
      "Thủy cung, vui chơi giải trí\n"
     ]
    },
    {
     "data": {
      "application/vnd.jupyter.widget-view+json": {
       "model_id": "9890fbbab1d7409c99e407351ba86c90",
       "version_major": 2,
       "version_minor": 0
      },
      "text/plain": [
       "IntSlider(value=0, description='Rate', max=5)"
      ]
     },
     "metadata": {},
     "output_type": "display_data"
    },
    {
     "name": "stdout",
     "output_type": "stream",
     "text": [
      "Rate 4 more!\n",
      "\n",
      "Chụp ảnh, trải nghiệm, thư giãn\n"
     ]
    },
    {
     "data": {
      "application/vnd.jupyter.widget-view+json": {
       "model_id": "9e2f5e92cf2642f88f88eb22dc425491",
       "version_major": 2,
       "version_minor": 0
      },
      "text/plain": [
       "IntSlider(value=0, description='Rate', max=5)"
      ]
     },
     "metadata": {},
     "output_type": "display_data"
    },
    {
     "name": "stdout",
     "output_type": "stream",
     "text": [
      "Rate 3 more!\n",
      "\n",
      "Du lịch nghỉ dưỡng, cắm trại, bơi thuyền, ngắm cảnh\n"
     ]
    },
    {
     "data": {
      "application/vnd.jupyter.widget-view+json": {
       "model_id": "d15ee05537a64c1db436d862fe0b3a06",
       "version_major": 2,
       "version_minor": 0
      },
      "text/plain": [
       "IntSlider(value=0, description='Rate', max=5)"
      ]
     },
     "metadata": {},
     "output_type": "display_data"
    },
    {
     "name": "stdout",
     "output_type": "stream",
     "text": [
      "Rate 2 more!\n",
      "\n",
      "Tàu điện, chụp ảnh\n"
     ]
    },
    {
     "data": {
      "application/vnd.jupyter.widget-view+json": {
       "model_id": "2fe8a2512ede44b5991c35e99fa8d447",
       "version_major": 2,
       "version_minor": 0
      },
      "text/plain": [
       "IntSlider(value=0, description='Rate', max=5)"
      ]
     },
     "metadata": {},
     "output_type": "display_data"
    },
    {
     "name": "stdout",
     "output_type": "stream",
     "text": [
      "Rate 1 more!\n",
      "\n",
      "Kiến trúc, nghệ thuật\n"
     ]
    },
    {
     "data": {
      "application/vnd.jupyter.widget-view+json": {
       "model_id": "5361df6872f24b60bd4e4c367c578494",
       "version_major": 2,
       "version_minor": 0
      },
      "text/plain": [
       "IntSlider(value=0, description='Rate', max=5)"
      ]
     },
     "metadata": {},
     "output_type": "display_data"
    }
   ],
   "source": [
    "category_df = att_df.groupby('category').size().reset_index().sort_values([0],ascending=False)[:20]\n",
    "categories = list(category_df.category.values)\n",
    "\n",
    "cat_rat = dict()\n",
    "def on_button_clicked(b):\n",
    "    if b.description in cat_rat:\n",
    "        return\n",
    "    print(b.description)\n",
    "    slider = widgets.IntSlider(min=0,max=5,step=1,description='Rate')\n",
    "    display(slider)\n",
    "    cat_rat[b.description] = slider\n",
    "    if(len(cat_rat) < 5):\n",
    "        print(\"Rate {x} more!\\n\".format(x=5-len(cat_rat)))\n",
    "    \n",
    "but_layout = widgets.Layout(width='100%', height='100px')\n",
    "but_items = [widgets.Button(description=c, layout=but_layout) for c in categories]\n",
    "on_clk = [item.on_click(on_button_clicked) for item in but_items]\n",
    "c1 = widgets.VBox([i for i in but_items[:4]])\n",
    "c2 = widgets.VBox([i for i in but_items[4:8]])\n",
    "c3 = widgets.VBox([i for i in but_items[8:12]])\n",
    "c4 = widgets.VBox([i for i in but_items[12:16]])\n",
    "c5 = widgets.VBox([i for i in but_items[16:]])\n",
    "buttons = widgets.HBox([c1,c2,c3,c4,c5])\n",
    "print(\"Select and rate atleast 5 categories and rate them:\")\n",
    "display(buttons)"
   ]
  },
  {
   "cell_type": "code",
   "execution_count": 6,
   "metadata": {},
   "outputs": [],
   "source": [
    "user_name = re.sub(' ','_',uname.value.lower())\n",
    "city = place.value\n",
    "(low,high) = tuple([float(i) for i in budget.value])\n",
    "begin_date = start.value\n",
    "end_date = end.value\n",
    "cat_rating = dict()\n",
    "for key, value in cat_rat.items():\n",
    "    cat_rating[key] = float(value.value)"
   ]
  },
  {
   "cell_type": "code",
   "execution_count": 7,
   "metadata": {},
   "outputs": [
    {
     "data": {
      "text/plain": [
       "10000000.0"
      ]
     },
     "execution_count": 7,
     "metadata": {},
     "output_type": "execute_result"
    }
   ],
   "source": [
    "cat_rating\n",
    "low\n",
    "high"
   ]
  },
  {
   "attachments": {},
   "cell_type": "markdown",
   "metadata": {},
   "source": [
    "## Model recommendation and filtering"
   ]
  },
  {
   "cell_type": "code",
   "execution_count": 23,
   "metadata": {},
   "outputs": [
    {
     "name": "stdout",
     "output_type": "stream",
     "text": [
      "Reading the data\n",
      "Reading the data\n",
      "Extracting num_rows from ratings\n",
      "Preprocessing the dataset\n",
      "Similar User: 100\n",
      "Model restored\n"
     ]
    },
    {
     "data": {
      "text/html": [
       "<div>\n",
       "<style scoped>\n",
       "    .dataframe tbody tr th:only-of-type {\n",
       "        vertical-align: middle;\n",
       "    }\n",
       "\n",
       "    .dataframe tbody tr th {\n",
       "        vertical-align: top;\n",
       "    }\n",
       "\n",
       "    .dataframe thead th {\n",
       "        text-align: right;\n",
       "    }\n",
       "</style>\n",
       "<table border=\"1\" class=\"dataframe\">\n",
       "  <thead>\n",
       "    <tr style=\"text-align: right;\">\n",
       "      <th></th>\n",
       "      <th>attraction_id</th>\n",
       "      <th>Recommendation Score</th>\n",
       "    </tr>\n",
       "  </thead>\n",
       "  <tbody>\n",
       "    <tr>\n",
       "      <th>0</th>\n",
       "      <td>1</td>\n",
       "      <td>0.538784</td>\n",
       "    </tr>\n",
       "    <tr>\n",
       "      <th>1</th>\n",
       "      <td>2</td>\n",
       "      <td>0.535408</td>\n",
       "    </tr>\n",
       "    <tr>\n",
       "      <th>2</th>\n",
       "      <td>4</td>\n",
       "      <td>0.518153</td>\n",
       "    </tr>\n",
       "    <tr>\n",
       "      <th>3</th>\n",
       "      <td>5</td>\n",
       "      <td>0.525091</td>\n",
       "    </tr>\n",
       "    <tr>\n",
       "      <th>4</th>\n",
       "      <td>6</td>\n",
       "      <td>0.536554</td>\n",
       "    </tr>\n",
       "    <tr>\n",
       "      <th>...</th>\n",
       "      <td>...</td>\n",
       "      <td>...</td>\n",
       "    </tr>\n",
       "    <tr>\n",
       "      <th>177</th>\n",
       "      <td>188</td>\n",
       "      <td>0.537920</td>\n",
       "    </tr>\n",
       "    <tr>\n",
       "      <th>178</th>\n",
       "      <td>189</td>\n",
       "      <td>0.524384</td>\n",
       "    </tr>\n",
       "    <tr>\n",
       "      <th>179</th>\n",
       "      <td>190</td>\n",
       "      <td>0.539867</td>\n",
       "    </tr>\n",
       "    <tr>\n",
       "      <th>180</th>\n",
       "      <td>191</td>\n",
       "      <td>0.518692</td>\n",
       "    </tr>\n",
       "    <tr>\n",
       "      <th>181</th>\n",
       "      <td>192</td>\n",
       "      <td>0.529682</td>\n",
       "    </tr>\n",
       "  </tbody>\n",
       "</table>\n",
       "<p>182 rows × 2 columns</p>\n",
       "</div>"
      ],
      "text/plain": [
       "     attraction_id  Recommendation Score\n",
       "0                1              0.538784\n",
       "1                2              0.535408\n",
       "2                4              0.518153\n",
       "3                5              0.525091\n",
       "4                6              0.536554\n",
       "..             ...                   ...\n",
       "177            188              0.537920\n",
       "178            189              0.524384\n",
       "179            190              0.539867\n",
       "180            191              0.518692\n",
       "181            192              0.529682\n",
       "\n",
       "[182 rows x 2 columns]"
      ]
     },
     "metadata": {},
     "output_type": "display_data"
    },
    {
     "data": {
      "text/html": [
       "<div>\n",
       "<style scoped>\n",
       "    .dataframe tbody tr th:only-of-type {\n",
       "        vertical-align: middle;\n",
       "    }\n",
       "\n",
       "    .dataframe tbody tr th {\n",
       "        vertical-align: top;\n",
       "    }\n",
       "\n",
       "    .dataframe thead th {\n",
       "        text-align: right;\n",
       "    }\n",
       "</style>\n",
       "<table border=\"1\" class=\"dataframe\">\n",
       "  <thead>\n",
       "    <tr style=\"text-align: right;\">\n",
       "      <th></th>\n",
       "      <th>attraction_id</th>\n",
       "      <th>name</th>\n",
       "      <th>category</th>\n",
       "      <th>city</th>\n",
       "      <th>latitude</th>\n",
       "      <th>longitude</th>\n",
       "      <th>avg_price</th>\n",
       "      <th>rating</th>\n",
       "    </tr>\n",
       "  </thead>\n",
       "  <tbody>\n",
       "    <tr>\n",
       "      <th>0</th>\n",
       "      <td>3</td>\n",
       "      <td>STAR3 CLUB</td>\n",
       "      <td>Vui chơi, giải trí về đêm</td>\n",
       "      <td>Hà Nội</td>\n",
       "      <td>21.046258</td>\n",
       "      <td>105.840704</td>\n",
       "      <td>804894</td>\n",
       "      <td>4.4</td>\n",
       "    </tr>\n",
       "    <tr>\n",
       "      <th>1</th>\n",
       "      <td>8</td>\n",
       "      <td>Nhà Thờ Cửa Bắc</td>\n",
       "      <td>Văn hóa tôn giáo, tâm linh</td>\n",
       "      <td>Hà Nội</td>\n",
       "      <td>21.041275</td>\n",
       "      <td>105.840432</td>\n",
       "      <td>171378</td>\n",
       "      <td>4.6</td>\n",
       "    </tr>\n",
       "    <tr>\n",
       "      <th>2</th>\n",
       "      <td>20</td>\n",
       "      <td>Vườn hoa Lênin</td>\n",
       "      <td>Đi dạo, ngắm cảnh</td>\n",
       "      <td>Hà Nội</td>\n",
       "      <td>21.031572</td>\n",
       "      <td>105.839212</td>\n",
       "      <td>661955</td>\n",
       "      <td>4.3</td>\n",
       "    </tr>\n",
       "    <tr>\n",
       "      <th>3</th>\n",
       "      <td>30</td>\n",
       "      <td>Chùa Một Cột</td>\n",
       "      <td>Văn hóa tôn giáo, tâm linh</td>\n",
       "      <td>Hà Nội</td>\n",
       "      <td>21.035667</td>\n",
       "      <td>105.832563</td>\n",
       "      <td>116520</td>\n",
       "      <td>4.5</td>\n",
       "    </tr>\n",
       "    <tr>\n",
       "      <th>4</th>\n",
       "      <td>33</td>\n",
       "      <td>Chè Thái Đội Cấn</td>\n",
       "      <td>Ẩm thực, nghỉ ngơi</td>\n",
       "      <td>Hà Nội</td>\n",
       "      <td>21.034317</td>\n",
       "      <td>105.829704</td>\n",
       "      <td>152360</td>\n",
       "      <td>4.1</td>\n",
       "    </tr>\n",
       "    <tr>\n",
       "      <th>...</th>\n",
       "      <td>...</td>\n",
       "      <td>...</td>\n",
       "      <td>...</td>\n",
       "      <td>...</td>\n",
       "      <td>...</td>\n",
       "      <td>...</td>\n",
       "      <td>...</td>\n",
       "      <td>...</td>\n",
       "    </tr>\n",
       "    <tr>\n",
       "      <th>17</th>\n",
       "      <td>19</td>\n",
       "      <td>Bảo tàng Mỹ thuật Việt Nam</td>\n",
       "      <td>Văn hóa, lịch sử, nghệ thuật</td>\n",
       "      <td>Hà Nội</td>\n",
       "      <td>21.030689</td>\n",
       "      <td>105.837908</td>\n",
       "      <td>261830</td>\n",
       "      <td>4.2</td>\n",
       "    </tr>\n",
       "    <tr>\n",
       "      <th>65</th>\n",
       "      <td>70</td>\n",
       "      <td>Cộng Cà Phê Trung Hòa</td>\n",
       "      <td>Đồ uống, thư giãn</td>\n",
       "      <td>Hà Nội</td>\n",
       "      <td>21.017312</td>\n",
       "      <td>105.798586</td>\n",
       "      <td>825878</td>\n",
       "      <td>4.2</td>\n",
       "    </tr>\n",
       "    <tr>\n",
       "      <th>57</th>\n",
       "      <td>62</td>\n",
       "      <td>Soya Garden</td>\n",
       "      <td>Đồ uống, thư giãn</td>\n",
       "      <td>Hà Nội</td>\n",
       "      <td>21.038046</td>\n",
       "      <td>105.815239</td>\n",
       "      <td>88239</td>\n",
       "      <td>4.3</td>\n",
       "    </tr>\n",
       "    <tr>\n",
       "      <th>91</th>\n",
       "      <td>97</td>\n",
       "      <td>Highlands coffee Yên Lãng</td>\n",
       "      <td>Đồ uống, thư giãn</td>\n",
       "      <td>Hà Nội</td>\n",
       "      <td>21.011339</td>\n",
       "      <td>105.817506</td>\n",
       "      <td>321576</td>\n",
       "      <td>4.2</td>\n",
       "    </tr>\n",
       "    <tr>\n",
       "      <th>36</th>\n",
       "      <td>41</td>\n",
       "      <td>Haan Vegan - Buffet Chay</td>\n",
       "      <td>Ẩm thực, nghỉ ngơi</td>\n",
       "      <td>Hà Nội</td>\n",
       "      <td>21.033173</td>\n",
       "      <td>105.805253</td>\n",
       "      <td>662727</td>\n",
       "      <td>4.4</td>\n",
       "    </tr>\n",
       "  </tbody>\n",
       "</table>\n",
       "<p>192 rows × 8 columns</p>\n",
       "</div>"
      ],
      "text/plain": [
       "    attraction_id                        name                      category  \\\n",
       "0               3                  STAR3 CLUB     Vui chơi, giải trí về đêm   \n",
       "1               8             Nhà Thờ Cửa Bắc    Văn hóa tôn giáo, tâm linh   \n",
       "2              20              Vườn hoa Lênin             Đi dạo, ngắm cảnh   \n",
       "3              30                Chùa Một Cột    Văn hóa tôn giáo, tâm linh   \n",
       "4              33            Chè Thái Đội Cấn            Ẩm thực, nghỉ ngơi   \n",
       "..            ...                         ...                           ...   \n",
       "17             19  Bảo tàng Mỹ thuật Việt Nam  Văn hóa, lịch sử, nghệ thuật   \n",
       "65             70       Cộng Cà Phê Trung Hòa             Đồ uống, thư giãn   \n",
       "57             62                 Soya Garden             Đồ uống, thư giãn   \n",
       "91             97   Highlands coffee Yên Lãng             Đồ uống, thư giãn   \n",
       "36             41    Haan Vegan - Buffet Chay            Ẩm thực, nghỉ ngơi   \n",
       "\n",
       "      city   latitude   longitude  avg_price  rating  \n",
       "0   Hà Nội  21.046258  105.840704     804894     4.4  \n",
       "1   Hà Nội  21.041275  105.840432     171378     4.6  \n",
       "2   Hà Nội  21.031572  105.839212     661955     4.3  \n",
       "3   Hà Nội  21.035667  105.832563     116520     4.5  \n",
       "4   Hà Nội  21.034317  105.829704     152360     4.1  \n",
       "..     ...        ...         ...        ...     ...  \n",
       "17  Hà Nội  21.030689  105.837908     261830     4.2  \n",
       "65  Hà Nội  21.017312  105.798586     825878     4.2  \n",
       "57  Hà Nội  21.038046  105.815239      88239     4.3  \n",
       "91  Hà Nội  21.011339  105.817506     321576     4.2  \n",
       "36  Hà Nội  21.033173  105.805253     662727     4.4  \n",
       "\n",
       "[192 rows x 8 columns]"
      ]
     },
     "execution_count": 23,
     "metadata": {},
     "output_type": "execute_result"
    }
   ],
   "source": [
    "filename, user, rbm_att = get_recc(att_df, cat_rating)\n",
    "filtered = filter_df(filename, user, low, high, city, att_df)"
   ]
  },
  {
   "cell_type": "code",
   "execution_count": 24,
   "metadata": {},
   "outputs": [
    {
     "name": "stdout",
     "output_type": "stream",
     "text": [
      "\n",
      "Item no.: 1 --> Item name = STAR3 CLUB\n",
      "Evaluating...\n",
      "Starting Download...\n",
      "\n",
      "Errors: 0\n",
      "\n",
      "\n",
      "Item no.: 1 --> Item name = Hanoi Studio Gallery\n",
      "Evaluating...\n",
      "Starting Download...\n",
      "\n",
      "Errors: 0\n",
      "\n",
      "\n",
      "Item no.: 1 --> Item name = Manzi Art Space and Cafe\n",
      "Evaluating...\n",
      "Starting Download...\n",
      "\n",
      "Errors: 0\n",
      "\n",
      "\n",
      "Item no.: 1 --> Item name = T\\u1ed4 CHIM XANH - BLUEBIRDS' NEST\n",
      "Evaluating...\n",
      "Starting Download...\n",
      "\n",
      "Errors: 0\n",
      "\n"
     ]
    }
   ],
   "source": [
    "# %%capture\n",
    "final = dict()\n",
    "final['timeofday'] = []\n",
    "final['image'] = []\n",
    "final['name'] = []\n",
    "final['location'] = []\n",
    "final['avg_price'] = []\n",
    "final['rating'] = []\n",
    "final['category'] = []\n",
    "\n",
    "for i in range(1,(end_date - begin_date).days+2):\n",
    "    for j in range(2):\n",
    "        final['timeofday'].append('Morning')\n",
    "    for j in range(2):\n",
    "        final['timeofday'].append('Evening')\n",
    "\n",
    "for i in range(len(final['timeofday'])): \n",
    "    if i%4 == 0: \n",
    "        final = top_recc(filtered, final)\n",
    "    else:\n",
    "        final = find_closest(filtered, final['location'][-1], final['timeofday'][i], final)"
   ]
  },
  {
   "attachments": {},
   "cell_type": "markdown",
   "metadata": {},
   "source": [
    "## Final output"
   ]
  },
  {
   "cell_type": "code",
   "execution_count": 24,
   "metadata": {},
   "outputs": [
    {
     "name": "stdout",
     "output_type": "stream",
     "text": [
      "name:\n",
      "0\n",
      "['Hồ trúc bạch', 'Hoàng thành thăng long', 'Phố đường tàu hà nội', 'San ho seafood restaurant']\n",
      "\n",
      "\n",
      "name:\n",
      "1\n",
      "['Công viên indira gandhi', 'Tiny cafe', 'Paris gateaux cafe', \"Pizza 4p's phan ké bính\"]\n",
      "\n",
      "\n",
      "name:\n",
      "2\n",
      "['Gogi house', 'Highlands coffee pullman hn', 'Chùa bộc', 'Vua chả cá mai hắc đế']\n",
      "\n",
      "\n",
      "name:\n",
      "3\n",
      "['The coffee house vũ phạm hàm', 'Starbucks ba trieu', 'Tràng tiền plaza', 'Bún đậu cô tuyến mắm tôm hàng khay']\n",
      "\n",
      "\n"
     ]
    },
    {
     "data": {
      "application/vnd.jupyter.widget-view+json": {
       "model_id": "133f2ae3526244458023fb274bf56b09",
       "version_major": 2,
       "version_minor": 0
      },
      "text/plain": [
       "Tab(children=(VBox(children=(HBox(children=(VBox(children=(HTML(value=\"<b><font color='orange'>MORNING</b>\"), …"
      ]
     },
     "metadata": {},
     "output_type": "display_data"
    }
   ],
   "source": [
    "days = (end_date - begin_date).days + 1\n",
    "display(final_output(days,final))"
   ]
  },
  {
   "cell_type": "code",
   "execution_count": 25,
   "metadata": {},
   "outputs": [
    {
     "data": {
      "text/plain": [
       "{'Đồ uống, thư giãn': 4.0,\n",
       " 'Ẩm thực, nghỉ ngơi': 4.0,\n",
       " 'Văn hóa, lịch sử, nghệ thuật': 4.0,\n",
       " 'Văn hóa tôn giáo, tâm linh': 4.0,\n",
       " 'Công viên, đi dạo, ngắm cảnh': 4.0}"
      ]
     },
     "execution_count": 25,
     "metadata": {},
     "output_type": "execute_result"
    }
   ],
   "source": [
    "cat_rating"
   ]
  }
 ],
 "metadata": {
  "kernelspec": {
   "display_name": "Python 3",
   "language": "python",
   "name": "python3"
  },
  "language_info": {
   "codemirror_mode": {
    "name": "ipython",
    "version": 3
   },
   "file_extension": ".py",
   "mimetype": "text/x-python",
   "name": "python",
   "nbconvert_exporter": "python",
   "pygments_lexer": "ipython3",
   "version": "3.11.0"
  },
  "orig_nbformat": 4
 },
 "nbformat": 4,
 "nbformat_minor": 2
}
