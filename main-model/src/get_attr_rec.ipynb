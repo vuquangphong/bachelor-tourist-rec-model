{
 "cells": [
  {
   "cell_type": "code",
   "execution_count": 1,
   "metadata": {},
   "outputs": [
    {
     "name": "stdout",
     "output_type": "stream",
     "text": [
      "WARNING:tensorflow:From C:\\Users\\thapq\\AppData\\Roaming\\Python\\Python311\\site-packages\\tensorflow\\python\\compat\\v2_compat.py:107: disable_resource_variables (from tensorflow.python.ops.variable_scope) is deprecated and will be removed in a future version.\n",
      "Instructions for updating:\n",
      "non-resource variables are not supported in the long term\n"
     ]
    }
   ],
   "source": [
    "from attr_rec import *\n",
    "from IPython.display import display\n",
    "import ipywidgets as widgets\n",
    "import pandas as pd\n",
    "import re"
   ]
  },
  {
   "cell_type": "code",
   "execution_count": 2,
   "metadata": {},
   "outputs": [],
   "source": [
    "att_df = pd.read_json('../data/attraction/attractions.json',orient='records')"
   ]
  },
  {
   "attachments": {},
   "cell_type": "markdown",
   "metadata": {},
   "source": [
    "## User details and Preferences"
   ]
  },
  {
   "cell_type": "code",
   "execution_count": 3,
   "metadata": {},
   "outputs": [
    {
     "data": {
      "application/vnd.jupyter.widget-view+json": {
       "model_id": "6a1ca4adbd934ebfaaa1605a25262283",
       "version_major": 2,
       "version_minor": 0
      },
      "text/plain": [
       "HBox(children=(VBox(children=(Text(value='', description='Tên người dùng', style=TextStyle(description_width='…"
      ]
     },
     "metadata": {},
     "output_type": "display_data"
    }
   ],
   "source": [
    "options_place = list(att_df.groupby('city').size().reset_index().sort_values([0], ascending=True).city.values)\n",
    "\n",
    "uname = widgets.Text(description=\"Tên người dùng\", style=dict(description_width='111px'))\n",
    "place = widgets.Dropdown(options=options_place, description='Điểm đến (Tỉnh/TP)', style=dict(description_width='111px'))\n",
    "budget = widgets.IntRangeSlider(min=0, max=10000000, step=10000, value=[0, 10000000], description=\"Kinh phí (VND)\", style=dict(description_width='111px'))\n",
    "v1 = widgets.VBox([uname,place,budget])\n",
    "v1.layout.width = '400px'\n",
    "start = widgets.DatePicker(description='Ngày bắt đầu', disabled=False, style=dict(description_width='100px'))\n",
    "end = widgets.DatePicker(description='Ngày kết thúc', disabled=False, style=dict(description_width='100px'))\n",
    "v2 = widgets.VBox([start,end])\n",
    "out = widgets.HBox([v1,v2])\n",
    "display(out)"
   ]
  },
  {
   "cell_type": "code",
   "execution_count": 4,
   "metadata": {},
   "outputs": [
    {
     "name": "stdout",
     "output_type": "stream",
     "text": [
      "Select and rate atleast 5 categories and rate them:\n"
     ]
    },
    {
     "data": {
      "application/vnd.jupyter.widget-view+json": {
       "model_id": "6958bac1fd16466cacc61e5b199d9bd1",
       "version_major": 2,
       "version_minor": 0
      },
      "text/plain": [
       "HBox(children=(VBox(children=(Button(description='Đồ uống, thư giãn', layout=Layout(height='100px', width='100…"
      ]
     },
     "metadata": {},
     "output_type": "display_data"
    },
    {
     "name": "stdout",
     "output_type": "stream",
     "text": [
      "Triển lãm, nghệ thuật\n"
     ]
    },
    {
     "data": {
      "application/vnd.jupyter.widget-view+json": {
       "model_id": "5e4dfff1548a4a539b9a0c2f4eb5ca53",
       "version_major": 2,
       "version_minor": 0
      },
      "text/plain": [
       "IntSlider(value=0, description='Rate', max=5)"
      ]
     },
     "metadata": {},
     "output_type": "display_data"
    },
    {
     "name": "stdout",
     "output_type": "stream",
     "text": [
      "Rate 4 more!\n",
      "\n",
      "Thủy cung, vui chơi giải trí\n"
     ]
    },
    {
     "data": {
      "application/vnd.jupyter.widget-view+json": {
       "model_id": "7995353f45b84d7fb2eb609b2cdc554b",
       "version_major": 2,
       "version_minor": 0
      },
      "text/plain": [
       "IntSlider(value=0, description='Rate', max=5)"
      ]
     },
     "metadata": {},
     "output_type": "display_data"
    },
    {
     "name": "stdout",
     "output_type": "stream",
     "text": [
      "Rate 3 more!\n",
      "\n",
      "Chụp ảnh, trải nghiệm, thư giãn\n"
     ]
    },
    {
     "data": {
      "application/vnd.jupyter.widget-view+json": {
       "model_id": "71f0b633a22948e683145e76a2aa5d6e",
       "version_major": 2,
       "version_minor": 0
      },
      "text/plain": [
       "IntSlider(value=0, description='Rate', max=5)"
      ]
     },
     "metadata": {},
     "output_type": "display_data"
    },
    {
     "name": "stdout",
     "output_type": "stream",
     "text": [
      "Rate 2 more!\n",
      "\n",
      "Du lịch nghỉ dưỡng, cắm trại, bơi thuyền, ngắm cảnh\n"
     ]
    },
    {
     "data": {
      "application/vnd.jupyter.widget-view+json": {
       "model_id": "c08650a18bdd496aa051d39aec92e961",
       "version_major": 2,
       "version_minor": 0
      },
      "text/plain": [
       "IntSlider(value=0, description='Rate', max=5)"
      ]
     },
     "metadata": {},
     "output_type": "display_data"
    },
    {
     "name": "stdout",
     "output_type": "stream",
     "text": [
      "Rate 1 more!\n",
      "\n",
      "Tàu điện, chụp ảnh\n"
     ]
    },
    {
     "data": {
      "application/vnd.jupyter.widget-view+json": {
       "model_id": "9faada8cf856411ea9c2bb0fc2b5082e",
       "version_major": 2,
       "version_minor": 0
      },
      "text/plain": [
       "IntSlider(value=0, description='Rate', max=5)"
      ]
     },
     "metadata": {},
     "output_type": "display_data"
    }
   ],
   "source": [
    "category_df = att_df.groupby('category').size().reset_index().sort_values([0],ascending=False)[:20]\n",
    "categories = list(category_df.category.values)\n",
    "\n",
    "cat_rat = dict()\n",
    "def on_button_clicked(b):\n",
    "    if b.description in cat_rat:\n",
    "        return\n",
    "    print(b.description)\n",
    "    slider = widgets.IntSlider(min=0,max=5,step=1,description='Rate')\n",
    "    display(slider)\n",
    "    cat_rat[b.description] = slider\n",
    "    if(len(cat_rat) < 5):\n",
    "        print(\"Rate {x} more!\\n\".format(x=5-len(cat_rat)))\n",
    "    \n",
    "but_layout = widgets.Layout(width='100%', height='100px')\n",
    "but_items = [widgets.Button(description=c, layout=but_layout) for c in categories]\n",
    "on_clk = [item.on_click(on_button_clicked) for item in but_items]\n",
    "c1 = widgets.VBox([i for i in but_items[:4]])\n",
    "c2 = widgets.VBox([i for i in but_items[4:8]])\n",
    "c3 = widgets.VBox([i for i in but_items[8:12]])\n",
    "c4 = widgets.VBox([i for i in but_items[12:16]])\n",
    "c5 = widgets.VBox([i for i in but_items[16:]])\n",
    "buttons = widgets.HBox([c1,c2,c3,c4,c5])\n",
    "print(\"Select and rate atleast 5 categories and rate them:\")\n",
    "display(buttons)"
   ]
  },
  {
   "cell_type": "code",
   "execution_count": 5,
   "metadata": {},
   "outputs": [],
   "source": [
    "user_name = re.sub(' ','_',uname.value.lower())\n",
    "city = place.value\n",
    "(low,high) = tuple([float(i) for i in budget.value])\n",
    "begin_date = start.value\n",
    "end_date = end.value\n",
    "cat_rating = dict()\n",
    "for key, value in cat_rat.items():\n",
    "    cat_rating[key] = float(value.value)"
   ]
  },
  {
   "attachments": {},
   "cell_type": "markdown",
   "metadata": {},
   "source": [
    "## Model recommendation and filtering"
   ]
  },
  {
   "cell_type": "code",
   "execution_count": 6,
   "metadata": {},
   "outputs": [
    {
     "name": "stdout",
     "output_type": "stream",
     "text": [
      "Reading the data\n",
      "Reading the data\n",
      "Extracting num_rows from ratings\n",
      "Preprocessing the dataset\n",
      "Similar User: 6\n",
      "Model restored\n"
     ]
    },
    {
     "data": {
      "text/html": [
       "<div>\n",
       "<style scoped>\n",
       "    .dataframe tbody tr th:only-of-type {\n",
       "        vertical-align: middle;\n",
       "    }\n",
       "\n",
       "    .dataframe tbody tr th {\n",
       "        vertical-align: top;\n",
       "    }\n",
       "\n",
       "    .dataframe thead th {\n",
       "        text-align: right;\n",
       "    }\n",
       "</style>\n",
       "<table border=\"1\" class=\"dataframe\">\n",
       "  <thead>\n",
       "    <tr style=\"text-align: right;\">\n",
       "      <th></th>\n",
       "      <th>attraction_id</th>\n",
       "      <th>Recommendation Score</th>\n",
       "    </tr>\n",
       "  </thead>\n",
       "  <tbody>\n",
       "    <tr>\n",
       "      <th>0</th>\n",
       "      <td>1</td>\n",
       "      <td>0.541203</td>\n",
       "    </tr>\n",
       "    <tr>\n",
       "      <th>1</th>\n",
       "      <td>2</td>\n",
       "      <td>0.523902</td>\n",
       "    </tr>\n",
       "    <tr>\n",
       "      <th>2</th>\n",
       "      <td>3</td>\n",
       "      <td>0.530953</td>\n",
       "    </tr>\n",
       "    <tr>\n",
       "      <th>3</th>\n",
       "      <td>4</td>\n",
       "      <td>0.523791</td>\n",
       "    </tr>\n",
       "    <tr>\n",
       "      <th>4</th>\n",
       "      <td>6</td>\n",
       "      <td>0.537494</td>\n",
       "    </tr>\n",
       "    <tr>\n",
       "      <th>...</th>\n",
       "      <td>...</td>\n",
       "      <td>...</td>\n",
       "    </tr>\n",
       "    <tr>\n",
       "      <th>168</th>\n",
       "      <td>188</td>\n",
       "      <td>0.534443</td>\n",
       "    </tr>\n",
       "    <tr>\n",
       "      <th>169</th>\n",
       "      <td>189</td>\n",
       "      <td>0.527999</td>\n",
       "    </tr>\n",
       "    <tr>\n",
       "      <th>170</th>\n",
       "      <td>190</td>\n",
       "      <td>0.523470</td>\n",
       "    </tr>\n",
       "    <tr>\n",
       "      <th>171</th>\n",
       "      <td>191</td>\n",
       "      <td>0.541511</td>\n",
       "    </tr>\n",
       "    <tr>\n",
       "      <th>172</th>\n",
       "      <td>192</td>\n",
       "      <td>0.531020</td>\n",
       "    </tr>\n",
       "  </tbody>\n",
       "</table>\n",
       "<p>173 rows × 2 columns</p>\n",
       "</div>"
      ],
      "text/plain": [
       "     attraction_id  Recommendation Score\n",
       "0                1              0.541203\n",
       "1                2              0.523902\n",
       "2                3              0.530953\n",
       "3                4              0.523791\n",
       "4                6              0.537494\n",
       "..             ...                   ...\n",
       "168            188              0.534443\n",
       "169            189              0.527999\n",
       "170            190              0.523470\n",
       "171            191              0.541511\n",
       "172            192              0.531020\n",
       "\n",
       "[173 rows x 2 columns]"
      ]
     },
     "metadata": {},
     "output_type": "display_data"
    }
   ],
   "source": [
    "filename, user, rbm_att = get_recc(att_df, cat_rating)\n",
    "filtered = filter_df(filename, user, low, high, city, att_df)"
   ]
  },
  {
   "cell_type": "code",
   "execution_count": 7,
   "metadata": {},
   "outputs": [
    {
     "name": "stdout",
     "output_type": "stream",
     "text": [
      "\n",
      "Item no.: 1 --> Item name = Vincom Center Ph\\u1ea1m Ng\\u1ecdc Th\\u1ea1ch\n",
      "Evaluating...\n",
      "Starting Download...\n",
      "\n",
      "Errors: 0\n",
      "\n",
      "\n",
      "Item no.: 1 --> Item name = T\\u1ed4 CHIM XANH - BLUEBIRDS' NEST\n",
      "Evaluating...\n",
      "Starting Download...\n",
      "\n",
      "Errors: 0\n",
      "\n",
      "\n",
      "Item no.: 1 --> Item name = Ph\\u1edf Cu\\u1ed1n H\\u01b0\\u01a1ng Mai\n",
      "Evaluating...\n",
      "Starting Download...\n",
      "\n",
      "Errors: 0\n",
      "\n"
     ]
    }
   ],
   "source": [
    "# %%capture\n",
    "final = dict()\n",
    "final['timeofday'] = []\n",
    "final['image'] = []\n",
    "final['name'] = []\n",
    "final['location'] = []\n",
    "final['avg_price'] = []\n",
    "final['rating'] = []\n",
    "final['category'] = []\n",
    "\n",
    "for i in range(1,(end_date - begin_date).days+2):\n",
    "    for j in range(2):\n",
    "        final['timeofday'].append('Morning')\n",
    "    for j in range(2):\n",
    "        final['timeofday'].append('Evening')\n",
    "\n",
    "for i in range(len(final['timeofday'])): \n",
    "    if i%4 == 0: \n",
    "        final = top_recc(filtered, final)\n",
    "    else:\n",
    "        final = find_closest(filtered, final['location'][-1], final['timeofday'][i], final)"
   ]
  },
  {
   "attachments": {},
   "cell_type": "markdown",
   "metadata": {},
   "source": [
    "## Final output"
   ]
  },
  {
   "cell_type": "code",
   "execution_count": 8,
   "metadata": {},
   "outputs": [
    {
     "name": "stdout",
     "output_type": "stream",
     "text": [
      "name:\n",
      "0\n",
      "['Vincom center phạm ngọc thạch', 'Bánh đúc nóng trung tự', 'Bánh mỳ ô long', 'Chùa bộc']\n",
      "\n",
      "\n",
      "name:\n",
      "1\n",
      "[\"Tổ chim xanh - bluebirds' nest\", 'Phở cuốn hương mai', 'Cửa bắc thành hà nội', 'Nhà thờ cửa bắc']\n",
      "\n",
      "\n"
     ]
    },
    {
     "data": {
      "application/vnd.jupyter.widget-view+json": {
       "model_id": "6da81c5900894eaa8b9f042ab2f70adc",
       "version_major": 2,
       "version_minor": 0
      },
      "text/plain": [
       "Tab(children=(VBox(children=(HBox(children=(VBox(children=(HTML(value=\"<b><font color='orange'>MORNING</b>\"), …"
      ]
     },
     "metadata": {},
     "output_type": "display_data"
    }
   ],
   "source": [
    "days = (end_date - begin_date).days + 1\n",
    "display(final_output(days,final))"
   ]
  }
 ],
 "metadata": {
  "kernelspec": {
   "display_name": "Python 3",
   "language": "python",
   "name": "python3"
  },
  "language_info": {
   "codemirror_mode": {
    "name": "ipython",
    "version": 3
   },
   "file_extension": ".py",
   "mimetype": "text/x-python",
   "name": "python",
   "nbconvert_exporter": "python",
   "pygments_lexer": "ipython3",
   "version": "3.11.0"
  },
  "orig_nbformat": 4
 },
 "nbformat": 4,
 "nbformat_minor": 2
}
